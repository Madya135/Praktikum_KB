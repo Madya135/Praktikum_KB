{
 "cells": [
  {
   "cell_type": "markdown",
   "id": "c9381d98",
   "metadata": {},
   "source": [
    " POSTTEST 5 KB - Supervised Learning"
   ]
  },
  {
   "cell_type": "code",
   "execution_count": 113,
   "id": "cd01c4ea",
   "metadata": {},
   "outputs": [],
   "source": [
    "# IMPORT PACKAGE | pandas - numpy \n",
    "import pandas as pd\n",
    "import numpy as np\n",
    "import matplotlib.pyplot as plt\n",
    "import seaborn as sns\n",
    "\n",
    "# Import Module | Sklearn | Data Cleaning \n",
    "from sklearn.impute import SimpleImputer\n",
    "\n",
    "# Import Module | Sklearn | Supervised learning\n",
    "from sklearn.model_selection import train_test_split\n",
    "from sklearn.neighbors import KNeighborsClassifier\n",
    "from sklearn.linear_model import LinearRegression\n",
    "from sklearn import datasets, linear_model\n",
    "from sklearn.naive_bayes import GaussianNB\n",
    "from sklearn.metrics import accuracy_score\n",
    "\n",
    "# Import untuk menghilangkan warning \n",
    "import warnings\n",
    "warnings.filterwarnings('ignore')"
   ]
  },
  {
   "cell_type": "code",
   "execution_count": 114,
   "id": "f73e1ce3",
   "metadata": {},
   "outputs": [
    {
     "data": {
      "text/html": [
       "<div>\n",
       "<style scoped>\n",
       "    .dataframe tbody tr th:only-of-type {\n",
       "        vertical-align: middle;\n",
       "    }\n",
       "\n",
       "    .dataframe tbody tr th {\n",
       "        vertical-align: top;\n",
       "    }\n",
       "\n",
       "    .dataframe thead th {\n",
       "        text-align: right;\n",
       "    }\n",
       "</style>\n",
       "<table border=\"1\" class=\"dataframe\">\n",
       "  <thead>\n",
       "    <tr style=\"text-align: right;\">\n",
       "      <th></th>\n",
       "      <th>Title</th>\n",
       "      <th>Genres</th>\n",
       "      <th>Rank</th>\n",
       "      <th>Popularity</th>\n",
       "      <th>Score</th>\n",
       "      <th>Episodes</th>\n",
       "      <th>Episode length</th>\n",
       "      <th>Release Date</th>\n",
       "    </tr>\n",
       "  </thead>\n",
       "  <tbody>\n",
       "    <tr>\n",
       "      <th>0</th>\n",
       "      <td>Kaguya-sama wa Kokurasetai: Ultra Romantic</td>\n",
       "      <td>Comedy,Suspense</td>\n",
       "      <td>13</td>\n",
       "      <td>404</td>\n",
       "      <td>8.99</td>\n",
       "      <td>12</td>\n",
       "      <td>23 min. per ep.</td>\n",
       "      <td>Spring 2022</td>\n",
       "    </tr>\n",
       "    <tr>\n",
       "      <th>1</th>\n",
       "      <td>3-gatsu no Lion 2nd Season</td>\n",
       "      <td>Drama,Slice of Life</td>\n",
       "      <td>14</td>\n",
       "      <td>533</td>\n",
       "      <td>8.96</td>\n",
       "      <td>22</td>\n",
       "      <td>25 min. per ep.</td>\n",
       "      <td>Fall 2017</td>\n",
       "    </tr>\n",
       "    <tr>\n",
       "      <th>2</th>\n",
       "      <td>Gintama Movie 2: Kanketsu-hen - Yorozuya yo Ei...</td>\n",
       "      <td>Action,Comedy,Sci-Fi</td>\n",
       "      <td>19</td>\n",
       "      <td>939</td>\n",
       "      <td>8.93</td>\n",
       "      <td>1</td>\n",
       "      <td>1 hr. 50 min.</td>\n",
       "      <td>NaN</td>\n",
       "    </tr>\n",
       "    <tr>\n",
       "      <th>3</th>\n",
       "      <td>Gintama.</td>\n",
       "      <td>Action,Comedy,Sci-Fi</td>\n",
       "      <td>12</td>\n",
       "      <td>735</td>\n",
       "      <td>8.99</td>\n",
       "      <td>12</td>\n",
       "      <td>24 min. per ep.</td>\n",
       "      <td>Winter 2017</td>\n",
       "    </tr>\n",
       "    <tr>\n",
       "      <th>4</th>\n",
       "      <td>Koe no Katachi</td>\n",
       "      <td>NaN</td>\n",
       "      <td>15</td>\n",
       "      <td>19</td>\n",
       "      <td>8.96</td>\n",
       "      <td>1</td>\n",
       "      <td>2 hr. 10 min.</td>\n",
       "      <td>NaN</td>\n",
       "    </tr>\n",
       "  </tbody>\n",
       "</table>\n",
       "</div>"
      ],
      "text/plain": [
       "                                               Title                Genres  \\\n",
       "0         Kaguya-sama wa Kokurasetai: Ultra Romantic       Comedy,Suspense   \n",
       "1                         3-gatsu no Lion 2nd Season   Drama,Slice of Life   \n",
       "2  Gintama Movie 2: Kanketsu-hen - Yorozuya yo Ei...  Action,Comedy,Sci-Fi   \n",
       "3                                           Gintama.  Action,Comedy,Sci-Fi   \n",
       "4                                     Koe no Katachi                   NaN   \n",
       "\n",
       "  Rank  Popularity  Score Episodes   Episode length Release Date  \n",
       "0   13         404   8.99       12  23 min. per ep.  Spring 2022  \n",
       "1   14         533   8.96       22  25 min. per ep.    Fall 2017  \n",
       "2   19         939   8.93        1    1 hr. 50 min.          NaN  \n",
       "3   12         735   8.99       12  24 min. per ep.  Winter 2017  \n",
       "4   15          19   8.96        1    2 hr. 10 min.          NaN  "
      ]
     },
     "execution_count": 114,
     "metadata": {},
     "output_type": "execute_result"
    }
   ],
   "source": [
    "# Baca Berkas CSV - Dataset\n",
    "\n",
    "rating = pd.read_csv(\"MALratings.csv\")\n",
    "rating.head(5)"
   ]
  },
  {
   "cell_type": "code",
   "execution_count": 115,
   "id": "9a5f1709",
   "metadata": {},
   "outputs": [
    {
     "name": "stdout",
     "output_type": "stream",
     "text": [
      "<class 'pandas.core.frame.DataFrame'>\n",
      "RangeIndex: 20343 entries, 0 to 20342\n",
      "Data columns (total 8 columns):\n",
      " #   Column          Non-Null Count  Dtype  \n",
      "---  ------          --------------  -----  \n",
      " 0   Title           20343 non-null  object \n",
      " 1   Genres          10016 non-null  object \n",
      " 2   Rank            20343 non-null  object \n",
      " 3   Popularity      20343 non-null  int64  \n",
      " 4   Score           14019 non-null  float64\n",
      " 5   Episodes        20343 non-null  object \n",
      " 6   Episode length  20343 non-null  object \n",
      " 7   Release Date    5087 non-null   object \n",
      "dtypes: float64(1), int64(1), object(6)\n",
      "memory usage: 1.2+ MB\n"
     ]
    }
   ],
   "source": [
    "# Menampilkan informasi Dataset\n",
    "\n",
    "rating.info()"
   ]
  },
  {
   "cell_type": "code",
   "execution_count": 116,
   "id": "4e33a071",
   "metadata": {},
   "outputs": [
    {
     "data": {
      "text/plain": [
       "Title                 0\n",
       "Genres            10327\n",
       "Rank                  0\n",
       "Popularity            0\n",
       "Score              6324\n",
       "Episodes              0\n",
       "Episode length        0\n",
       "Release Date      15256\n",
       "dtype: int64"
      ]
     },
     "execution_count": 116,
     "metadata": {},
     "output_type": "execute_result"
    }
   ],
   "source": [
    "# Mengecek nilai NULL pada Dataset\n",
    "\n",
    "rating.isna().sum()"
   ]
  },
  {
   "cell_type": "code",
   "execution_count": null,
   "id": "45816ac6",
   "metadata": {},
   "outputs": [],
   "source": []
  },
  {
   "cell_type": "code",
   "execution_count": 117,
   "id": "682a1faa",
   "metadata": {},
   "outputs": [],
   "source": [
    "# Data Cleaning \n",
    "# Menyalin Dataset rating | Bahan Data Cleaning\n",
    "\n",
    "cleaning_rating_before = rating.copy()\n",
    "clean_rating = rating.copy()"
   ]
  },
  {
   "cell_type": "code",
   "execution_count": 118,
   "id": "edde7506",
   "metadata": {},
   "outputs": [
    {
     "data": {
      "text/plain": [
       "Title                 0\n",
       "Genres            10327\n",
       "Rank                  0\n",
       "Popularity            0\n",
       "Score              6324\n",
       "Episodes              0\n",
       "Episode length        0\n",
       "Release Date      15256\n",
       "dtype: int64"
      ]
     },
     "execution_count": 118,
     "metadata": {},
     "output_type": "execute_result"
    }
   ],
   "source": [
    "# Mengecek nilai NULL dataset cleaning_rating_before (pacuan untuk cleaning)\n",
    "\n",
    "cleaning_rating_before.isna().sum()"
   ]
  },
  {
   "cell_type": "code",
   "execution_count": 119,
   "id": "342c0c29",
   "metadata": {},
   "outputs": [
    {
     "data": {
      "text/plain": [
       "Title              object\n",
       "Genres             object\n",
       "Rank               object\n",
       "Popularity          int64\n",
       "Score             float64\n",
       "Episodes           object\n",
       "Episode length     object\n",
       "Release Date       object\n",
       "dtype: object"
      ]
     },
     "execution_count": 119,
     "metadata": {},
     "output_type": "execute_result"
    }
   ],
   "source": [
    "# Mengecek type record dataset cleaning_rating_before (pacuan untuk cleaning)\n",
    "\n",
    "cleaning_rating_before.dtypes"
   ]
  },
  {
   "cell_type": "code",
   "execution_count": null,
   "id": "dddc8891",
   "metadata": {},
   "outputs": [],
   "source": []
  },
  {
   "cell_type": "code",
   "execution_count": 120,
   "id": "02e5ef9d",
   "metadata": {},
   "outputs": [
    {
     "data": {
      "text/plain": [
       "Title             0\n",
       "Genres            0\n",
       "Rank              0\n",
       "Popularity        0\n",
       "Score             0\n",
       "Episodes          0\n",
       "Episode length    0\n",
       "Release Date      0\n",
       "dtype: int64"
      ]
     },
     "execution_count": 120,
     "metadata": {},
     "output_type": "execute_result"
    }
   ],
   "source": [
    "# Cleaning dataset yang bernilai NULL dengan \"dropna\"\n",
    "\n",
    "clean_rating.dropna(inplace=True)\n",
    "clean_rating.isna().sum()\n",
    "# Untuk perbandingan cek \"cleaning_rating_before.isna().sum()\" diatas"
   ]
  },
  {
   "cell_type": "code",
   "execution_count": 121,
   "id": "f58798a1",
   "metadata": {},
   "outputs": [
    {
     "data": {
      "text/plain": [
       "20107"
      ]
     },
     "execution_count": 121,
     "metadata": {},
     "output_type": "execute_result"
    }
   ],
   "source": [
    "# Mengecek duplikat dataset | Record Release Date\n",
    "\n",
    "cleaning_rating_before['Release Date'].duplicated().sum()"
   ]
  },
  {
   "cell_type": "code",
   "execution_count": 122,
   "id": "4575b1b5",
   "metadata": {},
   "outputs": [
    {
     "data": {
      "text/plain": [
       "0"
      ]
     },
     "execution_count": 122,
     "metadata": {},
     "output_type": "execute_result"
    }
   ],
   "source": [
    "# Cleaning Dupe dataset | Record Release Date | Dataset \"rating_clean\"\n",
    "\n",
    "clean_rating.drop_duplicates(inplace=True)\n",
    "clean_rating.duplicated().sum()"
   ]
  },
  {
   "cell_type": "code",
   "execution_count": 123,
   "id": "3e6ec8a6",
   "metadata": {},
   "outputs": [
    {
     "data": {
      "text/html": [
       "<div>\n",
       "<style scoped>\n",
       "    .dataframe tbody tr th:only-of-type {\n",
       "        vertical-align: middle;\n",
       "    }\n",
       "\n",
       "    .dataframe tbody tr th {\n",
       "        vertical-align: top;\n",
       "    }\n",
       "\n",
       "    .dataframe thead th {\n",
       "        text-align: right;\n",
       "    }\n",
       "</style>\n",
       "<table border=\"1\" class=\"dataframe\">\n",
       "  <thead>\n",
       "    <tr style=\"text-align: right;\">\n",
       "      <th></th>\n",
       "      <th>Title</th>\n",
       "      <th>Genres</th>\n",
       "      <th>Rank</th>\n",
       "      <th>Popularity</th>\n",
       "      <th>Score</th>\n",
       "      <th>Episodes</th>\n",
       "      <th>Episode length</th>\n",
       "      <th>Release Date</th>\n",
       "    </tr>\n",
       "  </thead>\n",
       "  <tbody>\n",
       "    <tr>\n",
       "      <th>0</th>\n",
       "      <td>Kaguya-sama wa Kokurasetai: Ultra Romantic</td>\n",
       "      <td>Comedy,Suspense</td>\n",
       "      <td>13</td>\n",
       "      <td>404</td>\n",
       "      <td>8.99</td>\n",
       "      <td>12</td>\n",
       "      <td>23 min. per ep.</td>\n",
       "      <td>Spring 2022</td>\n",
       "    </tr>\n",
       "    <tr>\n",
       "      <th>1</th>\n",
       "      <td>3-gatsu no Lion 2nd Season</td>\n",
       "      <td>Drama,Slice of Life</td>\n",
       "      <td>14</td>\n",
       "      <td>533</td>\n",
       "      <td>8.96</td>\n",
       "      <td>22</td>\n",
       "      <td>25 min. per ep.</td>\n",
       "      <td>Fall 2017</td>\n",
       "    </tr>\n",
       "    <tr>\n",
       "      <th>3</th>\n",
       "      <td>Gintama.</td>\n",
       "      <td>Action,Comedy,Sci-Fi</td>\n",
       "      <td>12</td>\n",
       "      <td>735</td>\n",
       "      <td>8.99</td>\n",
       "      <td>12</td>\n",
       "      <td>24 min. per ep.</td>\n",
       "      <td>Winter 2017</td>\n",
       "    </tr>\n",
       "    <tr>\n",
       "      <th>6</th>\n",
       "      <td>Code Geass: Hangyaku no Lelouch</td>\n",
       "      <td>Action,Drama,Sci-Fi</td>\n",
       "      <td>50</td>\n",
       "      <td>17</td>\n",
       "      <td>8.70</td>\n",
       "      <td>25</td>\n",
       "      <td>24 min. per ep.</td>\n",
       "      <td>Fall 2006</td>\n",
       "    </tr>\n",
       "    <tr>\n",
       "      <th>7</th>\n",
       "      <td>Gintama</td>\n",
       "      <td>Action,Comedy,Sci-Fi</td>\n",
       "      <td>16</td>\n",
       "      <td>127</td>\n",
       "      <td>8.95</td>\n",
       "      <td>201</td>\n",
       "      <td>24 min. per ep.</td>\n",
       "      <td>Spring 2006</td>\n",
       "    </tr>\n",
       "  </tbody>\n",
       "</table>\n",
       "</div>"
      ],
      "text/plain": [
       "                                        Title                Genres Rank  \\\n",
       "0  Kaguya-sama wa Kokurasetai: Ultra Romantic       Comedy,Suspense   13   \n",
       "1                  3-gatsu no Lion 2nd Season   Drama,Slice of Life   14   \n",
       "3                                    Gintama.  Action,Comedy,Sci-Fi   12   \n",
       "6             Code Geass: Hangyaku no Lelouch   Action,Drama,Sci-Fi   50   \n",
       "7                                     Gintama  Action,Comedy,Sci-Fi   16   \n",
       "\n",
       "   Popularity  Score Episodes   Episode length Release Date  \n",
       "0         404   8.99       12  23 min. per ep.  Spring 2022  \n",
       "1         533   8.96       22  25 min. per ep.    Fall 2017  \n",
       "3         735   8.99       12  24 min. per ep.  Winter 2017  \n",
       "6          17   8.70       25  24 min. per ep.    Fall 2006  \n",
       "7         127   8.95      201  24 min. per ep.  Spring 2006  "
      ]
     },
     "execution_count": 123,
     "metadata": {},
     "output_type": "execute_result"
    }
   ],
   "source": [
    "# Data Bersih \n",
    "\n",
    "clean_rating.head()"
   ]
  },
  {
   "cell_type": "code",
   "execution_count": 124,
   "id": "d7aad821",
   "metadata": {},
   "outputs": [
    {
     "data": {
      "text/plain": [
       "3232"
      ]
     },
     "execution_count": 124,
     "metadata": {},
     "output_type": "execute_result"
    }
   ],
   "source": [
    "# Mengecek banyak isi data bersih\n",
    "\n",
    "len(clean_rating)"
   ]
  },
  {
   "cell_type": "code",
   "execution_count": 125,
   "id": "3d86d6e5",
   "metadata": {},
   "outputs": [
    {
     "data": {
      "text/html": [
       "<div>\n",
       "<style scoped>\n",
       "    .dataframe tbody tr th:only-of-type {\n",
       "        vertical-align: middle;\n",
       "    }\n",
       "\n",
       "    .dataframe tbody tr th {\n",
       "        vertical-align: top;\n",
       "    }\n",
       "\n",
       "    .dataframe thead th {\n",
       "        text-align: right;\n",
       "    }\n",
       "</style>\n",
       "<table border=\"1\" class=\"dataframe\">\n",
       "  <thead>\n",
       "    <tr style=\"text-align: right;\">\n",
       "      <th></th>\n",
       "      <th>Popularity</th>\n",
       "      <th>Score</th>\n",
       "    </tr>\n",
       "  </thead>\n",
       "  <tbody>\n",
       "    <tr>\n",
       "      <th>count</th>\n",
       "      <td>3232.000000</td>\n",
       "      <td>3232.000000</td>\n",
       "    </tr>\n",
       "    <tr>\n",
       "      <th>mean</th>\n",
       "      <td>4023.589728</td>\n",
       "      <td>6.944821</td>\n",
       "    </tr>\n",
       "    <tr>\n",
       "      <th>std</th>\n",
       "      <td>3575.180725</td>\n",
       "      <td>0.764228</td>\n",
       "    </tr>\n",
       "    <tr>\n",
       "      <th>min</th>\n",
       "      <td>1.000000</td>\n",
       "      <td>2.930000</td>\n",
       "    </tr>\n",
       "    <tr>\n",
       "      <th>25%</th>\n",
       "      <td>1136.750000</td>\n",
       "      <td>6.440000</td>\n",
       "    </tr>\n",
       "    <tr>\n",
       "      <th>50%</th>\n",
       "      <td>2858.500000</td>\n",
       "      <td>6.960000</td>\n",
       "    </tr>\n",
       "    <tr>\n",
       "      <th>75%</th>\n",
       "      <td>6046.250000</td>\n",
       "      <td>7.430000</td>\n",
       "    </tr>\n",
       "    <tr>\n",
       "      <th>max</th>\n",
       "      <td>13751.000000</td>\n",
       "      <td>9.140000</td>\n",
       "    </tr>\n",
       "  </tbody>\n",
       "</table>\n",
       "</div>"
      ],
      "text/plain": [
       "         Popularity        Score\n",
       "count   3232.000000  3232.000000\n",
       "mean    4023.589728     6.944821\n",
       "std     3575.180725     0.764228\n",
       "min        1.000000     2.930000\n",
       "25%     1136.750000     6.440000\n",
       "50%     2858.500000     6.960000\n",
       "75%     6046.250000     7.430000\n",
       "max    13751.000000     9.140000"
      ]
     },
     "execution_count": 125,
     "metadata": {},
     "output_type": "execute_result"
    }
   ],
   "source": [
    "# Melihat deskripsi data bersih\n",
    "\n",
    "clean_rating.describe()"
   ]
  },
  {
   "cell_type": "code",
   "execution_count": 126,
   "id": "bcb86ba1",
   "metadata": {
    "scrolled": true
   },
   "outputs": [
    {
     "data": {
      "text/html": [
       "<div>\n",
       "<style scoped>\n",
       "    .dataframe tbody tr th:only-of-type {\n",
       "        vertical-align: middle;\n",
       "    }\n",
       "\n",
       "    .dataframe tbody tr th {\n",
       "        vertical-align: top;\n",
       "    }\n",
       "\n",
       "    .dataframe thead th {\n",
       "        text-align: right;\n",
       "    }\n",
       "</style>\n",
       "<table border=\"1\" class=\"dataframe\">\n",
       "  <thead>\n",
       "    <tr style=\"text-align: right;\">\n",
       "      <th></th>\n",
       "      <th>Title</th>\n",
       "      <th>Genres</th>\n",
       "      <th>Rank</th>\n",
       "      <th>Popularity</th>\n",
       "      <th>Score</th>\n",
       "      <th>Episodes</th>\n",
       "      <th>Episode length</th>\n",
       "      <th>Release Date</th>\n",
       "    </tr>\n",
       "  </thead>\n",
       "  <tbody>\n",
       "    <tr>\n",
       "      <th>0</th>\n",
       "      <td>Kaguya-sama wa Kokurasetai: Ultra Romantic</td>\n",
       "      <td>Comedy,Suspense</td>\n",
       "      <td>13</td>\n",
       "      <td>404</td>\n",
       "      <td>8.99</td>\n",
       "      <td>12</td>\n",
       "      <td>23 min. per ep.</td>\n",
       "      <td>Spring 2022</td>\n",
       "    </tr>\n",
       "    <tr>\n",
       "      <th>1</th>\n",
       "      <td>3-gatsu no Lion 2nd Season</td>\n",
       "      <td>Drama,Slice of Life</td>\n",
       "      <td>14</td>\n",
       "      <td>533</td>\n",
       "      <td>8.96</td>\n",
       "      <td>22</td>\n",
       "      <td>25 min. per ep.</td>\n",
       "      <td>Fall 2017</td>\n",
       "    </tr>\n",
       "    <tr>\n",
       "      <th>3</th>\n",
       "      <td>Gintama.</td>\n",
       "      <td>Action,Comedy,Sci-Fi</td>\n",
       "      <td>12</td>\n",
       "      <td>735</td>\n",
       "      <td>8.99</td>\n",
       "      <td>12</td>\n",
       "      <td>24 min. per ep.</td>\n",
       "      <td>Winter 2017</td>\n",
       "    </tr>\n",
       "    <tr>\n",
       "      <th>6</th>\n",
       "      <td>Code Geass: Hangyaku no Lelouch</td>\n",
       "      <td>Action,Drama,Sci-Fi</td>\n",
       "      <td>50</td>\n",
       "      <td>17</td>\n",
       "      <td>8.70</td>\n",
       "      <td>25</td>\n",
       "      <td>24 min. per ep.</td>\n",
       "      <td>Fall 2006</td>\n",
       "    </tr>\n",
       "    <tr>\n",
       "      <th>7</th>\n",
       "      <td>Gintama</td>\n",
       "      <td>Action,Comedy,Sci-Fi</td>\n",
       "      <td>16</td>\n",
       "      <td>127</td>\n",
       "      <td>8.95</td>\n",
       "      <td>201</td>\n",
       "      <td>24 min. per ep.</td>\n",
       "      <td>Spring 2006</td>\n",
       "    </tr>\n",
       "  </tbody>\n",
       "</table>\n",
       "</div>"
      ],
      "text/plain": [
       "                                        Title                Genres Rank  \\\n",
       "0  Kaguya-sama wa Kokurasetai: Ultra Romantic       Comedy,Suspense   13   \n",
       "1                  3-gatsu no Lion 2nd Season   Drama,Slice of Life   14   \n",
       "3                                    Gintama.  Action,Comedy,Sci-Fi   12   \n",
       "6             Code Geass: Hangyaku no Lelouch   Action,Drama,Sci-Fi   50   \n",
       "7                                     Gintama  Action,Comedy,Sci-Fi   16   \n",
       "\n",
       "   Popularity  Score Episodes   Episode length Release Date  \n",
       "0         404   8.99       12  23 min. per ep.  Spring 2022  \n",
       "1         533   8.96       22  25 min. per ep.    Fall 2017  \n",
       "3         735   8.99       12  24 min. per ep.  Winter 2017  \n",
       "6          17   8.70       25  24 min. per ep.    Fall 2006  \n",
       "7         127   8.95      201  24 min. per ep.  Spring 2006  "
      ]
     },
     "execution_count": 126,
     "metadata": {},
     "output_type": "execute_result"
    }
   ],
   "source": [
    "# Menampilkan preview data bersih\n",
    "\n",
    "clean_rating.head()"
   ]
  },
  {
   "cell_type": "code",
   "execution_count": 127,
   "id": "6d029078",
   "metadata": {},
   "outputs": [
    {
     "data": {
      "text/html": [
       "<div>\n",
       "<style scoped>\n",
       "    .dataframe tbody tr th:only-of-type {\n",
       "        vertical-align: middle;\n",
       "    }\n",
       "\n",
       "    .dataframe tbody tr th {\n",
       "        vertical-align: top;\n",
       "    }\n",
       "\n",
       "    .dataframe thead th {\n",
       "        text-align: right;\n",
       "    }\n",
       "</style>\n",
       "<table border=\"1\" class=\"dataframe\">\n",
       "  <thead>\n",
       "    <tr style=\"text-align: right;\">\n",
       "      <th></th>\n",
       "      <th>Popularity</th>\n",
       "      <th>Score</th>\n",
       "    </tr>\n",
       "  </thead>\n",
       "  <tbody>\n",
       "    <tr>\n",
       "      <th>Popularity</th>\n",
       "      <td>1.0000</td>\n",
       "      <td>-0.5373</td>\n",
       "    </tr>\n",
       "    <tr>\n",
       "      <th>Score</th>\n",
       "      <td>-0.5373</td>\n",
       "      <td>1.0000</td>\n",
       "    </tr>\n",
       "  </tbody>\n",
       "</table>\n",
       "</div>"
      ],
      "text/plain": [
       "            Popularity   Score\n",
       "Popularity      1.0000 -0.5373\n",
       "Score          -0.5373  1.0000"
      ]
     },
     "execution_count": 127,
     "metadata": {},
     "output_type": "execute_result"
    }
   ],
   "source": [
    "# mengecek korelasi data bersih\n",
    "clean_rating.corr()"
   ]
  },
  {
   "cell_type": "code",
   "execution_count": 128,
   "id": "8e3d2fe5",
   "metadata": {},
   "outputs": [],
   "source": [
    "# Data Split | SL Classificatioin\n",
    "\n",
    "data = clean_rating[['Popularity', 'Score']]\n",
    "label = clean_rating[['Release Date']]\n",
    "\n",
    "data_train, data_test, label_train, label_test = train_test_split(data, label, test_size=1)"
   ]
  },
  {
   "cell_type": "code",
   "execution_count": null,
   "id": "ed47d279",
   "metadata": {},
   "outputs": [],
   "source": []
  },
  {
   "cell_type": "code",
   "execution_count": 129,
   "id": "7f44aca2",
   "metadata": {},
   "outputs": [
    {
     "data": {
      "text/html": [
       "<style>#sk-container-id-10 {color: black;background-color: white;}#sk-container-id-10 pre{padding: 0;}#sk-container-id-10 div.sk-toggleable {background-color: white;}#sk-container-id-10 label.sk-toggleable__label {cursor: pointer;display: block;width: 100%;margin-bottom: 0;padding: 0.3em;box-sizing: border-box;text-align: center;}#sk-container-id-10 label.sk-toggleable__label-arrow:before {content: \"▸\";float: left;margin-right: 0.25em;color: #696969;}#sk-container-id-10 label.sk-toggleable__label-arrow:hover:before {color: black;}#sk-container-id-10 div.sk-estimator:hover label.sk-toggleable__label-arrow:before {color: black;}#sk-container-id-10 div.sk-toggleable__content {max-height: 0;max-width: 0;overflow: hidden;text-align: left;background-color: #f0f8ff;}#sk-container-id-10 div.sk-toggleable__content pre {margin: 0.2em;color: black;border-radius: 0.25em;background-color: #f0f8ff;}#sk-container-id-10 input.sk-toggleable__control:checked~div.sk-toggleable__content {max-height: 200px;max-width: 100%;overflow: auto;}#sk-container-id-10 input.sk-toggleable__control:checked~label.sk-toggleable__label-arrow:before {content: \"▾\";}#sk-container-id-10 div.sk-estimator input.sk-toggleable__control:checked~label.sk-toggleable__label {background-color: #d4ebff;}#sk-container-id-10 div.sk-label input.sk-toggleable__control:checked~label.sk-toggleable__label {background-color: #d4ebff;}#sk-container-id-10 input.sk-hidden--visually {border: 0;clip: rect(1px 1px 1px 1px);clip: rect(1px, 1px, 1px, 1px);height: 1px;margin: -1px;overflow: hidden;padding: 0;position: absolute;width: 1px;}#sk-container-id-10 div.sk-estimator {font-family: monospace;background-color: #f0f8ff;border: 1px dotted black;border-radius: 0.25em;box-sizing: border-box;margin-bottom: 0.5em;}#sk-container-id-10 div.sk-estimator:hover {background-color: #d4ebff;}#sk-container-id-10 div.sk-parallel-item::after {content: \"\";width: 100%;border-bottom: 1px solid gray;flex-grow: 1;}#sk-container-id-10 div.sk-label:hover label.sk-toggleable__label {background-color: #d4ebff;}#sk-container-id-10 div.sk-serial::before {content: \"\";position: absolute;border-left: 1px solid gray;box-sizing: border-box;top: 0;bottom: 0;left: 50%;z-index: 0;}#sk-container-id-10 div.sk-serial {display: flex;flex-direction: column;align-items: center;background-color: white;padding-right: 0.2em;padding-left: 0.2em;position: relative;}#sk-container-id-10 div.sk-item {position: relative;z-index: 1;}#sk-container-id-10 div.sk-parallel {display: flex;align-items: stretch;justify-content: center;background-color: white;position: relative;}#sk-container-id-10 div.sk-item::before, #sk-container-id-10 div.sk-parallel-item::before {content: \"\";position: absolute;border-left: 1px solid gray;box-sizing: border-box;top: 0;bottom: 0;left: 50%;z-index: -1;}#sk-container-id-10 div.sk-parallel-item {display: flex;flex-direction: column;z-index: 1;position: relative;background-color: white;}#sk-container-id-10 div.sk-parallel-item:first-child::after {align-self: flex-end;width: 50%;}#sk-container-id-10 div.sk-parallel-item:last-child::after {align-self: flex-start;width: 50%;}#sk-container-id-10 div.sk-parallel-item:only-child::after {width: 0;}#sk-container-id-10 div.sk-dashed-wrapped {border: 1px dashed gray;margin: 0 0.4em 0.5em 0.4em;box-sizing: border-box;padding-bottom: 0.4em;background-color: white;}#sk-container-id-10 div.sk-label label {font-family: monospace;font-weight: bold;display: inline-block;line-height: 1.2em;}#sk-container-id-10 div.sk-label-container {text-align: center;}#sk-container-id-10 div.sk-container {/* jupyter's `normalize.less` sets `[hidden] { display: none; }` but bootstrap.min.css set `[hidden] { display: none !important; }` so we also need the `!important` here to be able to override the default hidden behavior on the sphinx rendered scikit-learn.org. See: https://github.com/scikit-learn/scikit-learn/issues/21755 */display: inline-block !important;position: relative;}#sk-container-id-10 div.sk-text-repr-fallback {display: none;}</style><div id=\"sk-container-id-10\" class=\"sk-top-container\"><div class=\"sk-text-repr-fallback\"><pre>KNeighborsClassifier()</pre><b>In a Jupyter environment, please rerun this cell to show the HTML representation or trust the notebook. <br />On GitHub, the HTML representation is unable to render, please try loading this page with nbviewer.org.</b></div><div class=\"sk-container\" hidden><div class=\"sk-item\"><div class=\"sk-estimator sk-toggleable\"><input class=\"sk-toggleable__control sk-hidden--visually\" id=\"sk-estimator-id-10\" type=\"checkbox\" checked><label for=\"sk-estimator-id-10\" class=\"sk-toggleable__label sk-toggleable__label-arrow\">KNeighborsClassifier</label><div class=\"sk-toggleable__content\"><pre>KNeighborsClassifier()</pre></div></div></div></div></div>"
      ],
      "text/plain": [
       "KNeighborsClassifier()"
      ]
     },
     "execution_count": 129,
     "metadata": {},
     "output_type": "execute_result"
    }
   ],
   "source": [
    "# Classification\n",
    "# K-Nearest Neighbour \n",
    "\n",
    "knn = KNeighborsClassifier(n_neighbors=5)\n",
    "knn.fit(data_train, label_train)"
   ]
  },
  {
   "cell_type": "code",
   "execution_count": 130,
   "id": "2a536e24",
   "metadata": {},
   "outputs": [],
   "source": [
    "predicting = knn.predict(data_test)"
   ]
  },
  {
   "cell_type": "code",
   "execution_count": 131,
   "id": "77032763",
   "metadata": {},
   "outputs": [],
   "source": [
    "acc = accuracy_score(label_test, predicting)"
   ]
  },
  {
   "cell_type": "code",
   "execution_count": 132,
   "id": "2637330c",
   "metadata": {},
   "outputs": [
    {
     "name": "stdout",
     "output_type": "stream",
     "text": [
      "Akurasi algoritma K-Nearest Neighbour:  {0.0}\n"
     ]
    }
   ],
   "source": [
    "print(\"Akurasi algoritma K-Nearest Neighbour: \", {acc})"
   ]
  },
  {
   "cell_type": "code",
   "execution_count": 133,
   "id": "a43cae6c",
   "metadata": {},
   "outputs": [],
   "source": [
    "# Naive Bayes | GaussianNB"
   ]
  },
  {
   "cell_type": "code",
   "execution_count": 134,
   "id": "9f079d3e",
   "metadata": {},
   "outputs": [
    {
     "data": {
      "text/html": [
       "<style>#sk-container-id-11 {color: black;background-color: white;}#sk-container-id-11 pre{padding: 0;}#sk-container-id-11 div.sk-toggleable {background-color: white;}#sk-container-id-11 label.sk-toggleable__label {cursor: pointer;display: block;width: 100%;margin-bottom: 0;padding: 0.3em;box-sizing: border-box;text-align: center;}#sk-container-id-11 label.sk-toggleable__label-arrow:before {content: \"▸\";float: left;margin-right: 0.25em;color: #696969;}#sk-container-id-11 label.sk-toggleable__label-arrow:hover:before {color: black;}#sk-container-id-11 div.sk-estimator:hover label.sk-toggleable__label-arrow:before {color: black;}#sk-container-id-11 div.sk-toggleable__content {max-height: 0;max-width: 0;overflow: hidden;text-align: left;background-color: #f0f8ff;}#sk-container-id-11 div.sk-toggleable__content pre {margin: 0.2em;color: black;border-radius: 0.25em;background-color: #f0f8ff;}#sk-container-id-11 input.sk-toggleable__control:checked~div.sk-toggleable__content {max-height: 200px;max-width: 100%;overflow: auto;}#sk-container-id-11 input.sk-toggleable__control:checked~label.sk-toggleable__label-arrow:before {content: \"▾\";}#sk-container-id-11 div.sk-estimator input.sk-toggleable__control:checked~label.sk-toggleable__label {background-color: #d4ebff;}#sk-container-id-11 div.sk-label input.sk-toggleable__control:checked~label.sk-toggleable__label {background-color: #d4ebff;}#sk-container-id-11 input.sk-hidden--visually {border: 0;clip: rect(1px 1px 1px 1px);clip: rect(1px, 1px, 1px, 1px);height: 1px;margin: -1px;overflow: hidden;padding: 0;position: absolute;width: 1px;}#sk-container-id-11 div.sk-estimator {font-family: monospace;background-color: #f0f8ff;border: 1px dotted black;border-radius: 0.25em;box-sizing: border-box;margin-bottom: 0.5em;}#sk-container-id-11 div.sk-estimator:hover {background-color: #d4ebff;}#sk-container-id-11 div.sk-parallel-item::after {content: \"\";width: 100%;border-bottom: 1px solid gray;flex-grow: 1;}#sk-container-id-11 div.sk-label:hover label.sk-toggleable__label {background-color: #d4ebff;}#sk-container-id-11 div.sk-serial::before {content: \"\";position: absolute;border-left: 1px solid gray;box-sizing: border-box;top: 0;bottom: 0;left: 50%;z-index: 0;}#sk-container-id-11 div.sk-serial {display: flex;flex-direction: column;align-items: center;background-color: white;padding-right: 0.2em;padding-left: 0.2em;position: relative;}#sk-container-id-11 div.sk-item {position: relative;z-index: 1;}#sk-container-id-11 div.sk-parallel {display: flex;align-items: stretch;justify-content: center;background-color: white;position: relative;}#sk-container-id-11 div.sk-item::before, #sk-container-id-11 div.sk-parallel-item::before {content: \"\";position: absolute;border-left: 1px solid gray;box-sizing: border-box;top: 0;bottom: 0;left: 50%;z-index: -1;}#sk-container-id-11 div.sk-parallel-item {display: flex;flex-direction: column;z-index: 1;position: relative;background-color: white;}#sk-container-id-11 div.sk-parallel-item:first-child::after {align-self: flex-end;width: 50%;}#sk-container-id-11 div.sk-parallel-item:last-child::after {align-self: flex-start;width: 50%;}#sk-container-id-11 div.sk-parallel-item:only-child::after {width: 0;}#sk-container-id-11 div.sk-dashed-wrapped {border: 1px dashed gray;margin: 0 0.4em 0.5em 0.4em;box-sizing: border-box;padding-bottom: 0.4em;background-color: white;}#sk-container-id-11 div.sk-label label {font-family: monospace;font-weight: bold;display: inline-block;line-height: 1.2em;}#sk-container-id-11 div.sk-label-container {text-align: center;}#sk-container-id-11 div.sk-container {/* jupyter's `normalize.less` sets `[hidden] { display: none; }` but bootstrap.min.css set `[hidden] { display: none !important; }` so we also need the `!important` here to be able to override the default hidden behavior on the sphinx rendered scikit-learn.org. See: https://github.com/scikit-learn/scikit-learn/issues/21755 */display: inline-block !important;position: relative;}#sk-container-id-11 div.sk-text-repr-fallback {display: none;}</style><div id=\"sk-container-id-11\" class=\"sk-top-container\"><div class=\"sk-text-repr-fallback\"><pre>GaussianNB()</pre><b>In a Jupyter environment, please rerun this cell to show the HTML representation or trust the notebook. <br />On GitHub, the HTML representation is unable to render, please try loading this page with nbviewer.org.</b></div><div class=\"sk-container\" hidden><div class=\"sk-item\"><div class=\"sk-estimator sk-toggleable\"><input class=\"sk-toggleable__control sk-hidden--visually\" id=\"sk-estimator-id-11\" type=\"checkbox\" checked><label for=\"sk-estimator-id-11\" class=\"sk-toggleable__label sk-toggleable__label-arrow\">GaussianNB</label><div class=\"sk-toggleable__content\"><pre>GaussianNB()</pre></div></div></div></div></div>"
      ],
      "text/plain": [
       "GaussianNB()"
      ]
     },
     "execution_count": 134,
     "metadata": {},
     "output_type": "execute_result"
    }
   ],
   "source": [
    "gnb = GaussianNB()\n",
    "gnb.fit(data_train, label_train)"
   ]
  },
  {
   "cell_type": "code",
   "execution_count": 135,
   "id": "10a8c19a",
   "metadata": {},
   "outputs": [],
   "source": [
    "predicting = gnb.predict(data_test)"
   ]
  },
  {
   "cell_type": "code",
   "execution_count": 136,
   "id": "c617a590",
   "metadata": {},
   "outputs": [],
   "source": [
    "acc = accuracy_score(label_test, predicting)"
   ]
  },
  {
   "cell_type": "code",
   "execution_count": 137,
   "id": "92decf08",
   "metadata": {},
   "outputs": [
    {
     "name": "stdout",
     "output_type": "stream",
     "text": [
      "Akurasi aloritma GaussianNB:  {0.0}\n"
     ]
    }
   ],
   "source": [
    "print(\"Akurasi aloritma GaussianNB: \", {acc})"
   ]
  },
  {
   "cell_type": "code",
   "execution_count": null,
   "id": "1eca769e",
   "metadata": {},
   "outputs": [],
   "source": []
  },
  {
   "cell_type": "code",
   "execution_count": 138,
   "id": "6eb6da8a",
   "metadata": {},
   "outputs": [],
   "source": [
    "# Data Split | SL Regression\n",
    "data2 = clean_rating[['Popularity']]\n",
    "label2 = clean_rating[['Score']]\n",
    "\n",
    "data_train2, data_test2, label_train2, label_test2 = train_test_split(data2, label2, test_size=1)"
   ]
  },
  {
   "cell_type": "code",
   "execution_count": 139,
   "id": "e57700d1",
   "metadata": {},
   "outputs": [
    {
     "data": {
      "text/html": [
       "<style>#sk-container-id-12 {color: black;background-color: white;}#sk-container-id-12 pre{padding: 0;}#sk-container-id-12 div.sk-toggleable {background-color: white;}#sk-container-id-12 label.sk-toggleable__label {cursor: pointer;display: block;width: 100%;margin-bottom: 0;padding: 0.3em;box-sizing: border-box;text-align: center;}#sk-container-id-12 label.sk-toggleable__label-arrow:before {content: \"▸\";float: left;margin-right: 0.25em;color: #696969;}#sk-container-id-12 label.sk-toggleable__label-arrow:hover:before {color: black;}#sk-container-id-12 div.sk-estimator:hover label.sk-toggleable__label-arrow:before {color: black;}#sk-container-id-12 div.sk-toggleable__content {max-height: 0;max-width: 0;overflow: hidden;text-align: left;background-color: #f0f8ff;}#sk-container-id-12 div.sk-toggleable__content pre {margin: 0.2em;color: black;border-radius: 0.25em;background-color: #f0f8ff;}#sk-container-id-12 input.sk-toggleable__control:checked~div.sk-toggleable__content {max-height: 200px;max-width: 100%;overflow: auto;}#sk-container-id-12 input.sk-toggleable__control:checked~label.sk-toggleable__label-arrow:before {content: \"▾\";}#sk-container-id-12 div.sk-estimator input.sk-toggleable__control:checked~label.sk-toggleable__label {background-color: #d4ebff;}#sk-container-id-12 div.sk-label input.sk-toggleable__control:checked~label.sk-toggleable__label {background-color: #d4ebff;}#sk-container-id-12 input.sk-hidden--visually {border: 0;clip: rect(1px 1px 1px 1px);clip: rect(1px, 1px, 1px, 1px);height: 1px;margin: -1px;overflow: hidden;padding: 0;position: absolute;width: 1px;}#sk-container-id-12 div.sk-estimator {font-family: monospace;background-color: #f0f8ff;border: 1px dotted black;border-radius: 0.25em;box-sizing: border-box;margin-bottom: 0.5em;}#sk-container-id-12 div.sk-estimator:hover {background-color: #d4ebff;}#sk-container-id-12 div.sk-parallel-item::after {content: \"\";width: 100%;border-bottom: 1px solid gray;flex-grow: 1;}#sk-container-id-12 div.sk-label:hover label.sk-toggleable__label {background-color: #d4ebff;}#sk-container-id-12 div.sk-serial::before {content: \"\";position: absolute;border-left: 1px solid gray;box-sizing: border-box;top: 0;bottom: 0;left: 50%;z-index: 0;}#sk-container-id-12 div.sk-serial {display: flex;flex-direction: column;align-items: center;background-color: white;padding-right: 0.2em;padding-left: 0.2em;position: relative;}#sk-container-id-12 div.sk-item {position: relative;z-index: 1;}#sk-container-id-12 div.sk-parallel {display: flex;align-items: stretch;justify-content: center;background-color: white;position: relative;}#sk-container-id-12 div.sk-item::before, #sk-container-id-12 div.sk-parallel-item::before {content: \"\";position: absolute;border-left: 1px solid gray;box-sizing: border-box;top: 0;bottom: 0;left: 50%;z-index: -1;}#sk-container-id-12 div.sk-parallel-item {display: flex;flex-direction: column;z-index: 1;position: relative;background-color: white;}#sk-container-id-12 div.sk-parallel-item:first-child::after {align-self: flex-end;width: 50%;}#sk-container-id-12 div.sk-parallel-item:last-child::after {align-self: flex-start;width: 50%;}#sk-container-id-12 div.sk-parallel-item:only-child::after {width: 0;}#sk-container-id-12 div.sk-dashed-wrapped {border: 1px dashed gray;margin: 0 0.4em 0.5em 0.4em;box-sizing: border-box;padding-bottom: 0.4em;background-color: white;}#sk-container-id-12 div.sk-label label {font-family: monospace;font-weight: bold;display: inline-block;line-height: 1.2em;}#sk-container-id-12 div.sk-label-container {text-align: center;}#sk-container-id-12 div.sk-container {/* jupyter's `normalize.less` sets `[hidden] { display: none; }` but bootstrap.min.css set `[hidden] { display: none !important; }` so we also need the `!important` here to be able to override the default hidden behavior on the sphinx rendered scikit-learn.org. See: https://github.com/scikit-learn/scikit-learn/issues/21755 */display: inline-block !important;position: relative;}#sk-container-id-12 div.sk-text-repr-fallback {display: none;}</style><div id=\"sk-container-id-12\" class=\"sk-top-container\"><div class=\"sk-text-repr-fallback\"><pre>LinearRegression()</pre><b>In a Jupyter environment, please rerun this cell to show the HTML representation or trust the notebook. <br />On GitHub, the HTML representation is unable to render, please try loading this page with nbviewer.org.</b></div><div class=\"sk-container\" hidden><div class=\"sk-item\"><div class=\"sk-estimator sk-toggleable\"><input class=\"sk-toggleable__control sk-hidden--visually\" id=\"sk-estimator-id-12\" type=\"checkbox\" checked><label for=\"sk-estimator-id-12\" class=\"sk-toggleable__label sk-toggleable__label-arrow\">LinearRegression</label><div class=\"sk-toggleable__content\"><pre>LinearRegression()</pre></div></div></div></div></div>"
      ],
      "text/plain": [
       "LinearRegression()"
      ]
     },
     "execution_count": 139,
     "metadata": {},
     "output_type": "execute_result"
    }
   ],
   "source": [
    "# Regression\n",
    "# Linear Regression\n",
    "\n",
    "reg = LinearRegression()\n",
    "reg.fit(data_train2,label_train2)"
   ]
  },
  {
   "cell_type": "code",
   "execution_count": 140,
   "id": "6af6cbfd",
   "metadata": {},
   "outputs": [],
   "source": [
    "predicting2 = reg.predict(data_test2)"
   ]
  },
  {
   "cell_type": "code",
   "execution_count": 141,
   "id": "691835b1",
   "metadata": {},
   "outputs": [
    {
     "name": "stdout",
     "output_type": "stream",
     "text": [
      "1 1\n"
     ]
    }
   ],
   "source": [
    "print(len(data_test2),\n",
    "     len(predicting2))"
   ]
  },
  {
   "cell_type": "code",
   "execution_count": 142,
   "id": "49558baf",
   "metadata": {},
   "outputs": [
    {
     "name": "stdout",
     "output_type": "stream",
     "text": [
      "1 1\n"
     ]
    }
   ],
   "source": [
    "print(len(data_test2),\n",
    "     len(label_test2))"
   ]
  },
  {
   "cell_type": "code",
   "execution_count": 143,
   "id": "aa1e3ebe",
   "metadata": {},
   "outputs": [
    {
     "data": {
      "image/png": "[encoded data removed]",
      "text/plain": [
       "<Figure size 1000x500 with 1 Axes>"
      ]
     },
     "metadata": {},
     "output_type": "display_data"
    }
   ],
   "source": [
    "# Grafik Linear Regression\n",
    "plt.figure(figsize=(10,5))\n",
    "plt.scatter(data_test2, label_test2, color=\"blue\",label=\"Nilai Popularity\")\n",
    "plt.plot(data_test2, predicting2, color=\"red\",label=\"Nilai Score\")\n",
    "plt.title('Linear Regression')\n",
    "plt.xlabel('Data test')\n",
    "plt.ylabel('Label')\n",
    "plt.legend(loc ='upper left')\n",
    "plt.show()"
   ]
  },
  {
   "cell_type": "code",
   "execution_count": null,
   "id": "b0d8b56b",
   "metadata": {},
   "outputs": [],
   "source": []
  },
  {
   "cell_type": "code",
   "execution_count": 144,
   "id": "207f93fa",
   "metadata": {},
   "outputs": [
    {
     "name": "stdout",
     "output_type": "stream",
     "text": [
      "Skor Model KNN dengan k=5\t\t: 0.0\n",
      "------------------------------------------------------------\n",
      "Skor Model GaussianNB\t\t\t: 0.0\n",
      "------------------------------------------------------------\n",
      "Skor Model Linear Regression\t\t: nan\n"
     ]
    }
   ],
   "source": [
    "# Perbandingan Skor algoritma\n",
    "\n",
    "print(f'Skor Model KNN dengan k=5\\t\\t: {knn.score(data_test, label_test)}',\n",
    "      f'Skor Model GaussianNB\\t\\t\\t: {gnb.score(data_test, label_test)}',\n",
    "      f'Skor Model Linear Regression\\t\\t: {reg.score(data_test2, label_test2)}',\n",
    "      sep = '\\n' + '-'*60 + '\\n')"
   ]
  },
  {
   "cell_type": "code",
   "execution_count": null,
   "id": "dd927988",
   "metadata": {},
   "outputs": [],
   "source": []
  },
  {
   "cell_type": "code",
   "execution_count": 145,
   "id": "5aafa173",
   "metadata": {},
   "outputs": [],
   "source": [
    "# Tampaknya datanya terlalu bersih :D"
   ]
  },
  {
   "cell_type": "code",
   "execution_count": null,
   "id": "71fef37b",
   "metadata": {},
   "outputs": [],
   "source": []
  }
 ],
 "metadata": {
  "kernelspec": {
   "display_name": "Python 3 (ipykernel)",
   "language": "python",
   "name": "python3"
  },
  "language_info": {
   "codemirror_mode": {
    "name": "ipython",
    "version": 3
   },
   "file_extension": ".py",
   "mimetype": "text/x-python",
   "name": "python",
   "nbconvert_exporter": "python",
   "pygments_lexer": "ipython3",
   "version": "3.10.7"
  }
 },
 "nbformat": 4,
 "nbformat_minor": 5
}
