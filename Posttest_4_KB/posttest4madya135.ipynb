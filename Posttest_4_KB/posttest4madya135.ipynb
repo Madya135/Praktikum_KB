{
 "cells": [
  {
   "cell_type": "markdown",
   "id": "bc330639",
   "metadata": {},
   "source": [
    "IMPORT PACKAGE\n"
   ]
  },
  {
   "cell_type": "code",
   "execution_count": 286,
   "id": "cd67bba0",
   "metadata": {},
   "outputs": [],
   "source": [
    "# POSTTEST 4 KB - PREPROCESSING\n",
    "\n",
    "# IMPORT PACKAGE | pandas - numpy - ScikitLearn(Sklearn) |\n",
    "\n",
    "import pandas as pd\n",
    "import numpy as np\n",
    "from sklearn.model_selection import train_test_split"
   ]
  },
  {
   "cell_type": "code",
   "execution_count": null,
   "id": "30b43ee7",
   "metadata": {},
   "outputs": [],
   "source": []
  },
  {
   "cell_type": "code",
   "execution_count": 253,
   "id": "bb2768ad",
   "metadata": {},
   "outputs": [
    {
     "data": {
      "text/html": [
       "<div>\n",
       "<style scoped>\n",
       "    .dataframe tbody tr th:only-of-type {\n",
       "        vertical-align: middle;\n",
       "    }\n",
       "\n",
       "    .dataframe tbody tr th {\n",
       "        vertical-align: top;\n",
       "    }\n",
       "\n",
       "    .dataframe thead th {\n",
       "        text-align: right;\n",
       "    }\n",
       "</style>\n",
       "<table border=\"1\" class=\"dataframe\">\n",
       "  <thead>\n",
       "    <tr style=\"text-align: right;\">\n",
       "      <th></th>\n",
       "      <th>Title</th>\n",
       "      <th>Genres</th>\n",
       "      <th>Rank</th>\n",
       "      <th>Popularity</th>\n",
       "      <th>Score</th>\n",
       "      <th>Episodes</th>\n",
       "      <th>Episode length</th>\n",
       "      <th>Release Date</th>\n",
       "    </tr>\n",
       "  </thead>\n",
       "  <tbody>\n",
       "    <tr>\n",
       "      <th>0</th>\n",
       "      <td>Kaguya-sama wa Kokurasetai: Ultra Romantic</td>\n",
       "      <td>Comedy,Suspense</td>\n",
       "      <td>13</td>\n",
       "      <td>404</td>\n",
       "      <td>8.99</td>\n",
       "      <td>12</td>\n",
       "      <td>23 min. per ep.</td>\n",
       "      <td>Spring 2022</td>\n",
       "    </tr>\n",
       "    <tr>\n",
       "      <th>1</th>\n",
       "      <td>3-gatsu no Lion 2nd Season</td>\n",
       "      <td>Drama,Slice of Life</td>\n",
       "      <td>14</td>\n",
       "      <td>533</td>\n",
       "      <td>8.96</td>\n",
       "      <td>22</td>\n",
       "      <td>25 min. per ep.</td>\n",
       "      <td>Fall 2017</td>\n",
       "    </tr>\n",
       "    <tr>\n",
       "      <th>2</th>\n",
       "      <td>Gintama Movie 2: Kanketsu-hen - Yorozuya yo Ei...</td>\n",
       "      <td>Action,Comedy,Sci-Fi</td>\n",
       "      <td>19</td>\n",
       "      <td>939</td>\n",
       "      <td>8.93</td>\n",
       "      <td>1</td>\n",
       "      <td>1 hr. 50 min.</td>\n",
       "      <td>NaN</td>\n",
       "    </tr>\n",
       "    <tr>\n",
       "      <th>3</th>\n",
       "      <td>Gintama.</td>\n",
       "      <td>Action,Comedy,Sci-Fi</td>\n",
       "      <td>12</td>\n",
       "      <td>735</td>\n",
       "      <td>8.99</td>\n",
       "      <td>12</td>\n",
       "      <td>24 min. per ep.</td>\n",
       "      <td>Winter 2017</td>\n",
       "    </tr>\n",
       "    <tr>\n",
       "      <th>4</th>\n",
       "      <td>Koe no Katachi</td>\n",
       "      <td>NaN</td>\n",
       "      <td>15</td>\n",
       "      <td>19</td>\n",
       "      <td>8.96</td>\n",
       "      <td>1</td>\n",
       "      <td>2 hr. 10 min.</td>\n",
       "      <td>NaN</td>\n",
       "    </tr>\n",
       "  </tbody>\n",
       "</table>\n",
       "</div>"
      ],
      "text/plain": [
       "                                               Title                Genres  \\\n",
       "0         Kaguya-sama wa Kokurasetai: Ultra Romantic       Comedy,Suspense   \n",
       "1                         3-gatsu no Lion 2nd Season   Drama,Slice of Life   \n",
       "2  Gintama Movie 2: Kanketsu-hen - Yorozuya yo Ei...  Action,Comedy,Sci-Fi   \n",
       "3                                           Gintama.  Action,Comedy,Sci-Fi   \n",
       "4                                     Koe no Katachi                   NaN   \n",
       "\n",
       "  Rank  Popularity  Score Episodes   Episode length Release Date  \n",
       "0   13         404   8.99       12  23 min. per ep.  Spring 2022  \n",
       "1   14         533   8.96       22  25 min. per ep.    Fall 2017  \n",
       "2   19         939   8.93        1    1 hr. 50 min.          NaN  \n",
       "3   12         735   8.99       12  24 min. per ep.  Winter 2017  \n",
       "4   15          19   8.96        1    2 hr. 10 min.          NaN  "
      ]
     },
     "execution_count": 253,
     "metadata": {},
     "output_type": "execute_result"
    }
   ],
   "source": [
    "# Baca Berkas CSV - Dataset\n",
    "\n",
    "rating = pd.read_csv(\"MALratings.csv\")\n",
    "rating.head(5)"
   ]
  },
  {
   "cell_type": "code",
   "execution_count": null,
   "id": "51c6e740",
   "metadata": {},
   "outputs": [],
   "source": []
  },
  {
   "cell_type": "code",
   "execution_count": 254,
   "id": "39b56a11",
   "metadata": {},
   "outputs": [
    {
     "name": "stdout",
     "output_type": "stream",
     "text": [
      "<class 'pandas.core.frame.DataFrame'>\n",
      "RangeIndex: 20343 entries, 0 to 20342\n",
      "Data columns (total 8 columns):\n",
      " #   Column          Non-Null Count  Dtype  \n",
      "---  ------          --------------  -----  \n",
      " 0   Title           20343 non-null  object \n",
      " 1   Genres          10016 non-null  object \n",
      " 2   Rank            20343 non-null  object \n",
      " 3   Popularity      20343 non-null  int64  \n",
      " 4   Score           14019 non-null  float64\n",
      " 5   Episodes        20343 non-null  object \n",
      " 6   Episode length  20343 non-null  object \n",
      " 7   Release Date    5087 non-null   object \n",
      "dtypes: float64(1), int64(1), object(6)\n",
      "memory usage: 1.2+ MB\n"
     ]
    }
   ],
   "source": [
    "# Menampilkan informasi Dataset\n",
    "\n",
    "rating.info()"
   ]
  },
  {
   "cell_type": "code",
   "execution_count": null,
   "id": "0e323c18",
   "metadata": {},
   "outputs": [],
   "source": []
  },
  {
   "cell_type": "code",
   "execution_count": 255,
   "id": "5719fee3",
   "metadata": {},
   "outputs": [
    {
     "data": {
      "text/html": [
       "<div>\n",
       "<style scoped>\n",
       "    .dataframe tbody tr th:only-of-type {\n",
       "        vertical-align: middle;\n",
       "    }\n",
       "\n",
       "    .dataframe tbody tr th {\n",
       "        vertical-align: top;\n",
       "    }\n",
       "\n",
       "    .dataframe thead th {\n",
       "        text-align: right;\n",
       "    }\n",
       "</style>\n",
       "<table border=\"1\" class=\"dataframe\">\n",
       "  <thead>\n",
       "    <tr style=\"text-align: right;\">\n",
       "      <th></th>\n",
       "      <th>Popularity</th>\n",
       "      <th>Score</th>\n",
       "    </tr>\n",
       "  </thead>\n",
       "  <tbody>\n",
       "    <tr>\n",
       "      <th>count</th>\n",
       "      <td>20343.000000</td>\n",
       "      <td>14019.000000</td>\n",
       "    </tr>\n",
       "    <tr>\n",
       "      <th>mean</th>\n",
       "      <td>10174.477953</td>\n",
       "      <td>6.451633</td>\n",
       "    </tr>\n",
       "    <tr>\n",
       "      <th>std</th>\n",
       "      <td>5874.844237</td>\n",
       "      <td>0.905774</td>\n",
       "    </tr>\n",
       "    <tr>\n",
       "      <th>min</th>\n",
       "      <td>1.000000</td>\n",
       "      <td>1.840000</td>\n",
       "    </tr>\n",
       "    <tr>\n",
       "      <th>25%</th>\n",
       "      <td>5086.500000</td>\n",
       "      <td>5.830000</td>\n",
       "    </tr>\n",
       "    <tr>\n",
       "      <th>50%</th>\n",
       "      <td>10175.000000</td>\n",
       "      <td>6.460000</td>\n",
       "    </tr>\n",
       "    <tr>\n",
       "      <th>75%</th>\n",
       "      <td>15263.500000</td>\n",
       "      <td>7.110000</td>\n",
       "    </tr>\n",
       "    <tr>\n",
       "      <th>max</th>\n",
       "      <td>20349.000000</td>\n",
       "      <td>9.140000</td>\n",
       "    </tr>\n",
       "  </tbody>\n",
       "</table>\n",
       "</div>"
      ],
      "text/plain": [
       "         Popularity         Score\n",
       "count  20343.000000  14019.000000\n",
       "mean   10174.477953      6.451633\n",
       "std     5874.844237      0.905774\n",
       "min        1.000000      1.840000\n",
       "25%     5086.500000      5.830000\n",
       "50%    10175.000000      6.460000\n",
       "75%    15263.500000      7.110000\n",
       "max    20349.000000      9.140000"
      ]
     },
     "execution_count": 255,
     "metadata": {},
     "output_type": "execute_result"
    }
   ],
   "source": [
    "#Menampilkan nilai rata-rata, standar deviasi, nilai minimum, nilai maksimum, Q1, Q2, dan Q3 dari attribute bertipe angka.\n",
    "\n",
    "rating.describe()"
   ]
  },
  {
   "cell_type": "code",
   "execution_count": null,
   "id": "661cf58d",
   "metadata": {},
   "outputs": [],
   "source": []
  },
  {
   "cell_type": "code",
   "execution_count": 256,
   "id": "52596b44",
   "metadata": {},
   "outputs": [
    {
     "data": {
      "text/plain": [
       "Title                 0\n",
       "Genres            10327\n",
       "Rank                  0\n",
       "Popularity            0\n",
       "Score              6324\n",
       "Episodes              0\n",
       "Episode length        0\n",
       "Release Date      15256\n",
       "dtype: int64"
      ]
     },
     "execution_count": 256,
     "metadata": {},
     "output_type": "execute_result"
    }
   ],
   "source": [
    "# Mengecek nilai NULL pada Dataset\n",
    "\n",
    "rating.isna().sum()"
   ]
  },
  {
   "cell_type": "code",
   "execution_count": null,
   "id": "027a70f7",
   "metadata": {},
   "outputs": [],
   "source": []
  },
  {
   "cell_type": "code",
   "execution_count": 257,
   "id": "251f24e2",
   "metadata": {},
   "outputs": [
    {
     "name": "stdout",
     "output_type": "stream",
     "text": [
      "panjang dataset 20343 baris\n"
     ]
    }
   ],
   "source": [
    "# Mengecek panjang dataset\n",
    "\n",
    "print(f'panjang dataset {len(rating)} baris')"
   ]
  },
  {
   "cell_type": "markdown",
   "id": "9be3bf89",
   "metadata": {},
   "source": [
    "=============================================================================="
   ]
  },
  {
   "cell_type": "code",
   "execution_count": 258,
   "id": "3fe6c0dc",
   "metadata": {},
   "outputs": [],
   "source": [
    "# Data Preprocessing | DATA SPLIT |\n",
    "\n",
    "data = rating[['Title', 'Genres', 'Rank', 'Popularity', 'Score', 'Episodes']]\n",
    "label = rating['Release Date']\n",
    "\n",
    "data_train, data_test, label_train, label_test = train_test_split(data,label,test_size=0.3)"
   ]
  },
  {
   "cell_type": "code",
   "execution_count": 259,
   "id": "c22eaaf8",
   "metadata": {},
   "outputs": [
    {
     "name": "stdout",
     "output_type": "stream",
     "text": [
      "Panjang data training 14240\n",
      "Panjang label training 14240\n",
      "Panjang data test 6103\n",
      "Panjang label test 6103\n"
     ]
    }
   ],
   "source": [
    "print(f'Panjang data training {len(data_train)}',\n",
    "     f'Panjang label training {len(label_train)}',\n",
    "     f'Panjang data test {len(data_test)}',\n",
    "     f'Panjang label test {len(label_test)}',\n",
    "      sep='\\n')"
   ]
  },
  {
   "cell_type": "markdown",
   "id": "473f242c",
   "metadata": {},
   "source": [
    "=============================================================================="
   ]
  },
  {
   "cell_type": "code",
   "execution_count": 260,
   "id": "5edc82fb",
   "metadata": {},
   "outputs": [],
   "source": [
    "# Data Transforming\n",
    "# Import Module | Sklearn - Matplotlib - Seaborn | Data Transforming\n",
    "\n",
    "from sklearn.preprocessing import MinMaxScaler # Module Normalisasi\n",
    "from sklearn.preprocessing import StandardScaler # Module Standarisasi\n",
    "\n",
    "import matplotlib.pyplot as plt\n",
    "import seaborn as sns"
   ]
  },
  {
   "cell_type": "code",
   "execution_count": null,
   "id": "28f92387",
   "metadata": {},
   "outputs": [],
   "source": []
  },
  {
   "cell_type": "code",
   "execution_count": 261,
   "id": "61c943f4",
   "metadata": {},
   "outputs": [],
   "source": [
    "# Menyalin Dataset rating | Bahan  Data Transforming |\n",
    "\n",
    "transform_rating = rating.copy()\n",
    "transform_rating_before = rating.copy()"
   ]
  },
  {
   "cell_type": "code",
   "execution_count": null,
   "id": "477cc5d5",
   "metadata": {},
   "outputs": [],
   "source": []
  },
  {
   "cell_type": "code",
   "execution_count": 262,
   "id": "4dd48039",
   "metadata": {},
   "outputs": [
    {
     "data": {
      "text/html": [
       "<div>\n",
       "<style scoped>\n",
       "    .dataframe tbody tr th:only-of-type {\n",
       "        vertical-align: middle;\n",
       "    }\n",
       "\n",
       "    .dataframe tbody tr th {\n",
       "        vertical-align: top;\n",
       "    }\n",
       "\n",
       "    .dataframe thead th {\n",
       "        text-align: right;\n",
       "    }\n",
       "</style>\n",
       "<table border=\"1\" class=\"dataframe\">\n",
       "  <thead>\n",
       "    <tr style=\"text-align: right;\">\n",
       "      <th></th>\n",
       "      <th>Title</th>\n",
       "      <th>Genres</th>\n",
       "      <th>Rank</th>\n",
       "      <th>Popularity</th>\n",
       "      <th>Score</th>\n",
       "      <th>Episodes</th>\n",
       "      <th>Episode length</th>\n",
       "      <th>Release Date</th>\n",
       "    </tr>\n",
       "  </thead>\n",
       "  <tbody>\n",
       "    <tr>\n",
       "      <th>0</th>\n",
       "      <td>Kaguya-sama wa Kokurasetai: Ultra Romantic</td>\n",
       "      <td>Comedy,Suspense</td>\n",
       "      <td>13</td>\n",
       "      <td>404</td>\n",
       "      <td>8.99</td>\n",
       "      <td>12</td>\n",
       "      <td>23 min. per ep.</td>\n",
       "      <td>Spring 2022</td>\n",
       "    </tr>\n",
       "    <tr>\n",
       "      <th>1</th>\n",
       "      <td>3-gatsu no Lion 2nd Season</td>\n",
       "      <td>Drama,Slice of Life</td>\n",
       "      <td>14</td>\n",
       "      <td>533</td>\n",
       "      <td>8.96</td>\n",
       "      <td>22</td>\n",
       "      <td>25 min. per ep.</td>\n",
       "      <td>Fall 2017</td>\n",
       "    </tr>\n",
       "    <tr>\n",
       "      <th>2</th>\n",
       "      <td>Gintama Movie 2: Kanketsu-hen - Yorozuya yo Ei...</td>\n",
       "      <td>Action,Comedy,Sci-Fi</td>\n",
       "      <td>19</td>\n",
       "      <td>939</td>\n",
       "      <td>8.93</td>\n",
       "      <td>1</td>\n",
       "      <td>1 hr. 50 min.</td>\n",
       "      <td>NaN</td>\n",
       "    </tr>\n",
       "    <tr>\n",
       "      <th>3</th>\n",
       "      <td>Gintama.</td>\n",
       "      <td>Action,Comedy,Sci-Fi</td>\n",
       "      <td>12</td>\n",
       "      <td>735</td>\n",
       "      <td>8.99</td>\n",
       "      <td>12</td>\n",
       "      <td>24 min. per ep.</td>\n",
       "      <td>Winter 2017</td>\n",
       "    </tr>\n",
       "    <tr>\n",
       "      <th>4</th>\n",
       "      <td>Koe no Katachi</td>\n",
       "      <td>NaN</td>\n",
       "      <td>15</td>\n",
       "      <td>19</td>\n",
       "      <td>8.96</td>\n",
       "      <td>1</td>\n",
       "      <td>2 hr. 10 min.</td>\n",
       "      <td>NaN</td>\n",
       "    </tr>\n",
       "  </tbody>\n",
       "</table>\n",
       "</div>"
      ],
      "text/plain": [
       "                                               Title                Genres  \\\n",
       "0         Kaguya-sama wa Kokurasetai: Ultra Romantic       Comedy,Suspense   \n",
       "1                         3-gatsu no Lion 2nd Season   Drama,Slice of Life   \n",
       "2  Gintama Movie 2: Kanketsu-hen - Yorozuya yo Ei...  Action,Comedy,Sci-Fi   \n",
       "3                                           Gintama.  Action,Comedy,Sci-Fi   \n",
       "4                                     Koe no Katachi                   NaN   \n",
       "\n",
       "  Rank  Popularity  Score Episodes   Episode length Release Date  \n",
       "0   13         404   8.99       12  23 min. per ep.  Spring 2022  \n",
       "1   14         533   8.96       22  25 min. per ep.    Fall 2017  \n",
       "2   19         939   8.93        1    1 hr. 50 min.          NaN  \n",
       "3   12         735   8.99       12  24 min. per ep.  Winter 2017  \n",
       "4   15          19   8.96        1    2 hr. 10 min.          NaN  "
      ]
     },
     "execution_count": 262,
     "metadata": {},
     "output_type": "execute_result"
    }
   ],
   "source": [
    "# Mengecek dataset transform_rating\n",
    "\n",
    "transform_rating_before.head()"
   ]
  },
  {
   "cell_type": "code",
   "execution_count": null,
   "id": "d72b2d3d",
   "metadata": {},
   "outputs": [],
   "source": []
  },
  {
   "cell_type": "code",
   "execution_count": 263,
   "id": "6bfe5d4a",
   "metadata": {},
   "outputs": [
    {
     "name": "stdout",
     "output_type": "stream",
     "text": [
      "<class 'pandas.core.frame.DataFrame'>\n",
      "RangeIndex: 20343 entries, 0 to 20342\n",
      "Data columns (total 8 columns):\n",
      " #   Column          Non-Null Count  Dtype  \n",
      "---  ------          --------------  -----  \n",
      " 0   Title           20343 non-null  object \n",
      " 1   Genres          10016 non-null  object \n",
      " 2   Rank            20343 non-null  object \n",
      " 3   Popularity      20343 non-null  int64  \n",
      " 4   Score           14019 non-null  float64\n",
      " 5   Episodes        20343 non-null  object \n",
      " 6   Episode length  20343 non-null  object \n",
      " 7   Release Date    5087 non-null   object \n",
      "dtypes: float64(1), int64(1), object(6)\n",
      "memory usage: 1.2+ MB\n"
     ]
    }
   ],
   "source": [
    "# Mengecek dataset transform_rating\n",
    "\n",
    "transform_rating_before.info()"
   ]
  },
  {
   "cell_type": "code",
   "execution_count": null,
   "id": "baf221ff",
   "metadata": {},
   "outputs": [],
   "source": []
  },
  {
   "cell_type": "code",
   "execution_count": 264,
   "id": "11ee602e",
   "metadata": {},
   "outputs": [
    {
     "data": {
      "text/plain": [
       "Title              object\n",
       "Genres             object\n",
       "Rank               object\n",
       "Popularity          int64\n",
       "Score             float64\n",
       "Episodes           object\n",
       "Episode length     object\n",
       "Release Date       object\n",
       "dtype: object"
      ]
     },
     "execution_count": 264,
     "metadata": {},
     "output_type": "execute_result"
    }
   ],
   "source": [
    "# Mengecek type dataset transform_rating\n",
    "\n",
    "transform_rating_before.dtypes"
   ]
  },
  {
   "cell_type": "code",
   "execution_count": null,
   "id": "a2a57ab9",
   "metadata": {},
   "outputs": [],
   "source": []
  },
  {
   "cell_type": "code",
   "execution_count": 265,
   "id": "a368ce4a",
   "metadata": {},
   "outputs": [
    {
     "data": {
      "text/html": [
       "<div>\n",
       "<style scoped>\n",
       "    .dataframe tbody tr th:only-of-type {\n",
       "        vertical-align: middle;\n",
       "    }\n",
       "\n",
       "    .dataframe tbody tr th {\n",
       "        vertical-align: top;\n",
       "    }\n",
       "\n",
       "    .dataframe thead th {\n",
       "        text-align: right;\n",
       "    }\n",
       "</style>\n",
       "<table border=\"1\" class=\"dataframe\">\n",
       "  <thead>\n",
       "    <tr style=\"text-align: right;\">\n",
       "      <th></th>\n",
       "      <th>Popularitas</th>\n",
       "      <th>Skor</th>\n",
       "    </tr>\n",
       "  </thead>\n",
       "  <tbody>\n",
       "    <tr>\n",
       "      <th>0</th>\n",
       "      <td>0.019805</td>\n",
       "      <td>0.979452</td>\n",
       "    </tr>\n",
       "    <tr>\n",
       "      <th>1</th>\n",
       "      <td>0.026145</td>\n",
       "      <td>0.975342</td>\n",
       "    </tr>\n",
       "    <tr>\n",
       "      <th>2</th>\n",
       "      <td>0.046098</td>\n",
       "      <td>0.971233</td>\n",
       "    </tr>\n",
       "    <tr>\n",
       "      <th>3</th>\n",
       "      <td>0.036072</td>\n",
       "      <td>0.979452</td>\n",
       "    </tr>\n",
       "    <tr>\n",
       "      <th>4</th>\n",
       "      <td>0.000885</td>\n",
       "      <td>0.975342</td>\n",
       "    </tr>\n",
       "  </tbody>\n",
       "</table>\n",
       "</div>"
      ],
      "text/plain": [
       "   Popularitas      Skor\n",
       "0     0.019805  0.979452\n",
       "1     0.026145  0.975342\n",
       "2     0.046098  0.971233\n",
       "3     0.036072  0.979452\n",
       "4     0.000885  0.975342"
      ]
     },
     "execution_count": 265,
     "metadata": {},
     "output_type": "execute_result"
    }
   ],
   "source": [
    "# Data Preprocessing | Data Transforming | Normalisasi\n",
    "\n",
    "scaler = MinMaxScaler()\n",
    "\n",
    "normalize_dataset = scaler.fit_transform(transform_rating[['Popularity', 'Score']])\n",
    "normalize_dataset = pd.DataFrame(normalize_dataset)\n",
    "normalize_dataset.rename(columns={0:'Popularitas', 1:'Skor'}, inplace=True)\n",
    "\n",
    "normalize_dataset.head(5)"
   ]
  },
  {
   "cell_type": "code",
   "execution_count": 266,
   "id": "db11c6db",
   "metadata": {},
   "outputs": [],
   "source": [
    "# Data Preprocessing | Data Transforming | Normalisasi\n",
    "\n",
    "transform_rating.drop('Title', axis=1, inplace=True)\n",
    "transform_rating.drop('Genres', axis=1, inplace=True)\n",
    "transform_rating.drop('Rank', axis=1, inplace=True)\n",
    "transform_rating.drop('Episodes', axis=1, inplace=True)\n",
    "transform_rating.drop('Episode length', axis=1, inplace=True)\n",
    "transform_rating.drop('Release Date', axis=1, inplace=True)\n",
    "\n",
    "# bikin alat\n",
    "standart_std = StandardScaler()\n",
    "\n",
    "#standarisasi\n",
    "scaled_dataset = standart_std.fit_transform(transform_rating)"
   ]
  },
  {
   "cell_type": "code",
   "execution_count": 267,
   "id": "a7626a96",
   "metadata": {},
   "outputs": [],
   "source": [
    "# Perbandingan sebelum dan sesudah di Transforming"
   ]
  },
  {
   "cell_type": "code",
   "execution_count": 268,
   "id": "b6312ff6",
   "metadata": {},
   "outputs": [
    {
     "name": "stdout",
     "output_type": "stream",
     "text": [
      "<class 'pandas.core.frame.DataFrame'>\n",
      "RangeIndex: 20343 entries, 0 to 20342\n",
      "Data columns (total 8 columns):\n",
      " #   Column          Non-Null Count  Dtype  \n",
      "---  ------          --------------  -----  \n",
      " 0   Title           20343 non-null  object \n",
      " 1   Genres          10016 non-null  object \n",
      " 2   Rank            20343 non-null  object \n",
      " 3   Popularity      20343 non-null  int64  \n",
      " 4   Score           14019 non-null  float64\n",
      " 5   Episodes        20343 non-null  object \n",
      " 6   Episode length  20343 non-null  object \n",
      " 7   Release Date    5087 non-null   object \n",
      "dtypes: float64(1), int64(1), object(6)\n",
      "memory usage: 1.2+ MB\n"
     ]
    }
   ],
   "source": [
    "# Data sebelum Transforming | Standarisasi\n",
    "\n",
    "transform_rating_before.info()"
   ]
  },
  {
   "cell_type": "code",
   "execution_count": 269,
   "id": "85bac9fc",
   "metadata": {},
   "outputs": [
    {
     "name": "stdout",
     "output_type": "stream",
     "text": [
      "<class 'pandas.core.frame.DataFrame'>\n",
      "RangeIndex: 20343 entries, 0 to 20342\n",
      "Data columns (total 2 columns):\n",
      " #   Column      Non-Null Count  Dtype  \n",
      "---  ------      --------------  -----  \n",
      " 0   Popularity  20343 non-null  int64  \n",
      " 1   Score       14019 non-null  float64\n",
      "dtypes: float64(1), int64(1)\n",
      "memory usage: 318.0 KB\n"
     ]
    }
   ],
   "source": [
    "# Data sesudah Transforming | Standarisasi\n",
    "\n",
    "transform_rating.info()"
   ]
  },
  {
   "cell_type": "code",
   "execution_count": null,
   "id": "4a8b475b",
   "metadata": {},
   "outputs": [],
   "source": []
  },
  {
   "cell_type": "code",
   "execution_count": 270,
   "id": "812a3b3b",
   "metadata": {},
   "outputs": [],
   "source": [
    "# Import Module | Sklearn | Data Cleaning \n",
    "\n",
    "from sklearn.impute import SimpleImputer"
   ]
  },
  {
   "cell_type": "markdown",
   "id": "5e1c4e0c",
   "metadata": {},
   "source": [
    "=============================================================================="
   ]
  },
  {
   "cell_type": "code",
   "execution_count": 271,
   "id": "6296bfd1",
   "metadata": {},
   "outputs": [],
   "source": [
    "# Data Cleaning \n",
    "# Menyalin Dataset rating | Bahan Data Cleaning | Mean, Modus, Median\n",
    "\n",
    "cleaning_rating_before = rating.copy()\n",
    "cleaning_mean = rating.copy()\n",
    "cleaning_modus = rating.copy()\n",
    "cleaning_median = rating.copy()\n",
    "cleaning_null = rating.copy()\n",
    "cleaning_dupe = rating.copy()"
   ]
  },
  {
   "cell_type": "code",
   "execution_count": null,
   "id": "96f202cc",
   "metadata": {},
   "outputs": [],
   "source": []
  },
  {
   "cell_type": "code",
   "execution_count": 272,
   "id": "1151c378",
   "metadata": {},
   "outputs": [
    {
     "data": {
      "text/plain": [
       "Title                 0\n",
       "Genres            10327\n",
       "Rank                  0\n",
       "Popularity            0\n",
       "Score              6324\n",
       "Episodes              0\n",
       "Episode length        0\n",
       "Release Date      15256\n",
       "dtype: int64"
      ]
     },
     "execution_count": 272,
     "metadata": {},
     "output_type": "execute_result"
    }
   ],
   "source": [
    "# Mengecek nilai NULL dataset cleaning_rating_before (pacuan untuk cleaning)\n",
    "\n",
    "cleaning_rating_before.isna().sum()"
   ]
  },
  {
   "cell_type": "code",
   "execution_count": null,
   "id": "fa8ac4c9",
   "metadata": {},
   "outputs": [],
   "source": []
  },
  {
   "cell_type": "code",
   "execution_count": 273,
   "id": "45b5b703",
   "metadata": {},
   "outputs": [
    {
     "data": {
      "text/plain": [
       "Title              object\n",
       "Genres             object\n",
       "Rank               object\n",
       "Popularity          int64\n",
       "Score             float64\n",
       "Episodes           object\n",
       "Episode length     object\n",
       "Release Date       object\n",
       "dtype: object"
      ]
     },
     "execution_count": 273,
     "metadata": {},
     "output_type": "execute_result"
    }
   ],
   "source": [
    "# Mengecek type record dataset cleaning_rating_before (pacuan untuk cleaning)\n",
    "\n",
    "cleaning_rating_before.dtypes"
   ]
  },
  {
   "cell_type": "code",
   "execution_count": null,
   "id": "1b2efe6c",
   "metadata": {},
   "outputs": [],
   "source": []
  },
  {
   "cell_type": "code",
   "execution_count": 274,
   "id": "f7f154b4",
   "metadata": {},
   "outputs": [],
   "source": [
    "# Membuat alat untuk Data Cleaning\n",
    "\n",
    "clean_mean = SimpleImputer(strategy='mean')\n",
    "clean_modus = SimpleImputer(strategy='most_frequent')\n",
    "clean_median = SimpleImputer(strategy='median')"
   ]
  },
  {
   "cell_type": "code",
   "execution_count": null,
   "id": "ea81e31a",
   "metadata": {},
   "outputs": [],
   "source": []
  },
  {
   "cell_type": "code",
   "execution_count": 275,
   "id": "c5993547",
   "metadata": {},
   "outputs": [
    {
     "data": {
      "text/plain": [
       "Title                 0\n",
       "Genres            10327\n",
       "Rank                  0\n",
       "Popularity            0\n",
       "Score                 0\n",
       "Episodes              0\n",
       "Episode length        0\n",
       "Release Date      15256\n",
       "dtype: int64"
      ]
     },
     "execution_count": 275,
     "metadata": {},
     "output_type": "execute_result"
    }
   ],
   "source": [
    "# Mean - data float64 | Record Score | dataset \"cleaning_mean\"\n",
    "\n",
    "cleaning_mean['Score'] = clean_mean.fit_transform(cleaning_mean[['Score']])\n",
    "cleaning_mean.isna().sum()\n",
    "# Untuk perbandingan cek \"cleaning_rating_before.isna().sum()\" diatas"
   ]
  },
  {
   "cell_type": "code",
   "execution_count": null,
   "id": "1bf16a10",
   "metadata": {},
   "outputs": [],
   "source": []
  },
  {
   "cell_type": "code",
   "execution_count": 276,
   "id": "c018e719",
   "metadata": {},
   "outputs": [
    {
     "data": {
      "text/plain": [
       "Title                 0\n",
       "Genres                0\n",
       "Rank                  0\n",
       "Popularity            0\n",
       "Score              6324\n",
       "Episodes              0\n",
       "Episode length        0\n",
       "Release Date      15256\n",
       "dtype: int64"
      ]
     },
     "execution_count": 276,
     "metadata": {},
     "output_type": "execute_result"
    }
   ],
   "source": [
    "# Modus - data object | Record Genres | dataset \"cleaning_modus\"\n",
    "\n",
    "cleaning_modus['Genres'] = clean_modus.fit_transform(cleaning_modus[['Genres']])\n",
    "cleaning_modus.isna().sum()\n",
    "# Untuk perbandingan cek \"cleaning_rating_before.isna().sum()\" diatas"
   ]
  },
  {
   "cell_type": "code",
   "execution_count": null,
   "id": "d6065138",
   "metadata": {},
   "outputs": [],
   "source": []
  },
  {
   "cell_type": "code",
   "execution_count": 277,
   "id": "51a9f1cf",
   "metadata": {},
   "outputs": [
    {
     "data": {
      "text/plain": [
       "Title                 0\n",
       "Genres            10327\n",
       "Rank                  0\n",
       "Popularity            0\n",
       "Score                 0\n",
       "Episodes              0\n",
       "Episode length        0\n",
       "Release Date      15256\n",
       "dtype: int64"
      ]
     },
     "execution_count": 277,
     "metadata": {},
     "output_type": "execute_result"
    }
   ],
   "source": [
    "# Median - data object | Record Score | dataset \"cleaning_median\" \n",
    "\n",
    "cleaning_median['Score'] = clean_median.fit_transform(cleaning_median[['Score']])\n",
    "cleaning_median.isna().sum()  \n",
    "# Untuk perbandingan cek \"cleaning_rating_before.isna().sum()\" diatas"
   ]
  },
  {
   "cell_type": "code",
   "execution_count": null,
   "id": "7c1d654d",
   "metadata": {},
   "outputs": [],
   "source": []
  },
  {
   "cell_type": "code",
   "execution_count": 278,
   "id": "62fe5e33",
   "metadata": {},
   "outputs": [
    {
     "data": {
      "text/plain": [
       "Title             0\n",
       "Genres            0\n",
       "Rank              0\n",
       "Popularity        0\n",
       "Score             0\n",
       "Episodes          0\n",
       "Episode length    0\n",
       "Release Date      0\n",
       "dtype: int64"
      ]
     },
     "execution_count": 278,
     "metadata": {},
     "output_type": "execute_result"
    }
   ],
   "source": [
    "# Cleaning dataset yang bernilai NULL dengan \"dropna\"\n",
    "\n",
    "cleaning_null.dropna(inplace=True)\n",
    "cleaning_null.isna().sum()\n",
    "# Untuk perbandingan cek \"cleaning_rating_before.isna().sum()\" diatas"
   ]
  },
  {
   "cell_type": "code",
   "execution_count": null,
   "id": "c4b83d88",
   "metadata": {},
   "outputs": [],
   "source": []
  },
  {
   "cell_type": "code",
   "execution_count": 279,
   "id": "318a9534",
   "metadata": {},
   "outputs": [
    {
     "data": {
      "text/plain": [
       "20107"
      ]
     },
     "execution_count": 279,
     "metadata": {},
     "output_type": "execute_result"
    }
   ],
   "source": [
    "# Mengecek duplikat dataset | Record Release Date\n",
    "\n",
    "cleaning_rating_before['Release Date'].duplicated().sum()"
   ]
  },
  {
   "cell_type": "code",
   "execution_count": null,
   "id": "57d01a9d",
   "metadata": {},
   "outputs": [],
   "source": []
  },
  {
   "cell_type": "code",
   "execution_count": 280,
   "id": "d0ebab1a",
   "metadata": {},
   "outputs": [
    {
     "data": {
      "text/plain": [
       "0"
      ]
     },
     "execution_count": 280,
     "metadata": {},
     "output_type": "execute_result"
    }
   ],
   "source": [
    "# Cleaning Dupe dataset | Record Release Date | Dataset \"cleaning_dupe\"\n",
    "\n",
    "cleaning_dupe.drop_duplicates(inplace=True)\n",
    "cleaning_dupe.duplicated().sum()"
   ]
  },
  {
   "cell_type": "markdown",
   "id": "96e2e3f7",
   "metadata": {},
   "source": [
    "=============================================================================="
   ]
  },
  {
   "cell_type": "code",
   "execution_count": 281,
   "id": "4a22b9f8",
   "metadata": {},
   "outputs": [
    {
     "data": {
      "text/html": [
       "<div>\n",
       "<style scoped>\n",
       "    .dataframe tbody tr th:only-of-type {\n",
       "        vertical-align: middle;\n",
       "    }\n",
       "\n",
       "    .dataframe tbody tr th {\n",
       "        vertical-align: top;\n",
       "    }\n",
       "\n",
       "    .dataframe thead th {\n",
       "        text-align: right;\n",
       "    }\n",
       "</style>\n",
       "<table border=\"1\" class=\"dataframe\">\n",
       "  <thead>\n",
       "    <tr style=\"text-align: right;\">\n",
       "      <th></th>\n",
       "      <th>Title</th>\n",
       "      <th>Genres</th>\n",
       "      <th>Rank</th>\n",
       "      <th>Popularity</th>\n",
       "      <th>Score</th>\n",
       "      <th>Episodes</th>\n",
       "      <th>Episode length</th>\n",
       "      <th>Release Date</th>\n",
       "    </tr>\n",
       "  </thead>\n",
       "  <tbody>\n",
       "    <tr>\n",
       "      <th>0</th>\n",
       "      <td>Kaguya-sama wa Kokurasetai: Ultra Romantic</td>\n",
       "      <td>Comedy,Suspense</td>\n",
       "      <td>13</td>\n",
       "      <td>404</td>\n",
       "      <td>8.99</td>\n",
       "      <td>12</td>\n",
       "      <td>23 min. per ep.</td>\n",
       "      <td>Spring 2022</td>\n",
       "    </tr>\n",
       "    <tr>\n",
       "      <th>1</th>\n",
       "      <td>3-gatsu no Lion 2nd Season</td>\n",
       "      <td>Drama,Slice of Life</td>\n",
       "      <td>14</td>\n",
       "      <td>533</td>\n",
       "      <td>8.96</td>\n",
       "      <td>22</td>\n",
       "      <td>25 min. per ep.</td>\n",
       "      <td>Fall 2017</td>\n",
       "    </tr>\n",
       "    <tr>\n",
       "      <th>2</th>\n",
       "      <td>Gintama Movie 2: Kanketsu-hen - Yorozuya yo Ei...</td>\n",
       "      <td>Action,Comedy,Sci-Fi</td>\n",
       "      <td>19</td>\n",
       "      <td>939</td>\n",
       "      <td>8.93</td>\n",
       "      <td>1</td>\n",
       "      <td>1 hr. 50 min.</td>\n",
       "      <td>NaN</td>\n",
       "    </tr>\n",
       "    <tr>\n",
       "      <th>3</th>\n",
       "      <td>Gintama.</td>\n",
       "      <td>Action,Comedy,Sci-Fi</td>\n",
       "      <td>12</td>\n",
       "      <td>735</td>\n",
       "      <td>8.99</td>\n",
       "      <td>12</td>\n",
       "      <td>24 min. per ep.</td>\n",
       "      <td>Winter 2017</td>\n",
       "    </tr>\n",
       "    <tr>\n",
       "      <th>4</th>\n",
       "      <td>Koe no Katachi</td>\n",
       "      <td>NaN</td>\n",
       "      <td>15</td>\n",
       "      <td>19</td>\n",
       "      <td>8.96</td>\n",
       "      <td>1</td>\n",
       "      <td>2 hr. 10 min.</td>\n",
       "      <td>NaN</td>\n",
       "    </tr>\n",
       "  </tbody>\n",
       "</table>\n",
       "</div>"
      ],
      "text/plain": [
       "                                               Title                Genres  \\\n",
       "0         Kaguya-sama wa Kokurasetai: Ultra Romantic       Comedy,Suspense   \n",
       "1                         3-gatsu no Lion 2nd Season   Drama,Slice of Life   \n",
       "2  Gintama Movie 2: Kanketsu-hen - Yorozuya yo Ei...  Action,Comedy,Sci-Fi   \n",
       "3                                           Gintama.  Action,Comedy,Sci-Fi   \n",
       "4                                     Koe no Katachi                   NaN   \n",
       "\n",
       "  Rank  Popularity  Score Episodes   Episode length Release Date  \n",
       "0   13         404   8.99       12  23 min. per ep.  Spring 2022  \n",
       "1   14         533   8.96       22  25 min. per ep.    Fall 2017  \n",
       "2   19         939   8.93        1    1 hr. 50 min.          NaN  \n",
       "3   12         735   8.99       12  24 min. per ep.  Winter 2017  \n",
       "4   15          19   8.96        1    2 hr. 10 min.          NaN  "
      ]
     },
     "execution_count": 281,
     "metadata": {},
     "output_type": "execute_result"
    }
   ],
   "source": [
    "# Encoding \n",
    "# Import Modul Encoding\n",
    "from sklearn.preprocessing import OrdinalEncoder\n",
    "from sklearn.preprocessing import OneHotEncoder\n",
    "\n",
    "# Membuat alat untuk Encoding \n",
    "encode_ordinal = rating.copy()\n",
    "encode_onehot = rating.copy()\n",
    "\n",
    "#preview data rating\n",
    "rating.head()"
   ]
  },
  {
   "cell_type": "code",
   "execution_count": null,
   "id": "a20ef7eb",
   "metadata": {},
   "outputs": [],
   "source": []
  },
  {
   "cell_type": "code",
   "execution_count": 282,
   "id": "2c914232",
   "metadata": {},
   "outputs": [
    {
     "data": {
      "text/html": [
       "<div>\n",
       "<style scoped>\n",
       "    .dataframe tbody tr th:only-of-type {\n",
       "        vertical-align: middle;\n",
       "    }\n",
       "\n",
       "    .dataframe tbody tr th {\n",
       "        vertical-align: top;\n",
       "    }\n",
       "\n",
       "    .dataframe thead th {\n",
       "        text-align: right;\n",
       "    }\n",
       "</style>\n",
       "<table border=\"1\" class=\"dataframe\">\n",
       "  <thead>\n",
       "    <tr style=\"text-align: right;\">\n",
       "      <th></th>\n",
       "      <th>Title</th>\n",
       "      <th>Genres</th>\n",
       "      <th>Rank</th>\n",
       "      <th>Popularity</th>\n",
       "      <th>Score</th>\n",
       "      <th>Episodes</th>\n",
       "      <th>Episode length</th>\n",
       "      <th>Release Date</th>\n",
       "    </tr>\n",
       "  </thead>\n",
       "  <tbody>\n",
       "    <tr>\n",
       "      <th>0</th>\n",
       "      <td>Kaguya-sama wa Kokurasetai: Ultra Romantic</td>\n",
       "      <td>Comedy,Suspense</td>\n",
       "      <td>13</td>\n",
       "      <td>400.0</td>\n",
       "      <td>8.99</td>\n",
       "      <td>12</td>\n",
       "      <td>23 min. per ep.</td>\n",
       "      <td>Spring 2022</td>\n",
       "    </tr>\n",
       "    <tr>\n",
       "      <th>1</th>\n",
       "      <td>3-gatsu no Lion 2nd Season</td>\n",
       "      <td>Drama,Slice of Life</td>\n",
       "      <td>14</td>\n",
       "      <td>529.0</td>\n",
       "      <td>8.96</td>\n",
       "      <td>22</td>\n",
       "      <td>25 min. per ep.</td>\n",
       "      <td>Fall 2017</td>\n",
       "    </tr>\n",
       "    <tr>\n",
       "      <th>2</th>\n",
       "      <td>Gintama Movie 2: Kanketsu-hen - Yorozuya yo Ei...</td>\n",
       "      <td>Action,Comedy,Sci-Fi</td>\n",
       "      <td>19</td>\n",
       "      <td>934.0</td>\n",
       "      <td>8.93</td>\n",
       "      <td>1</td>\n",
       "      <td>1 hr. 50 min.</td>\n",
       "      <td>NaN</td>\n",
       "    </tr>\n",
       "    <tr>\n",
       "      <th>3</th>\n",
       "      <td>Gintama.</td>\n",
       "      <td>Action,Comedy,Sci-Fi</td>\n",
       "      <td>12</td>\n",
       "      <td>731.0</td>\n",
       "      <td>8.99</td>\n",
       "      <td>12</td>\n",
       "      <td>24 min. per ep.</td>\n",
       "      <td>Winter 2017</td>\n",
       "    </tr>\n",
       "    <tr>\n",
       "      <th>4</th>\n",
       "      <td>Koe no Katachi</td>\n",
       "      <td>NaN</td>\n",
       "      <td>15</td>\n",
       "      <td>18.0</td>\n",
       "      <td>8.96</td>\n",
       "      <td>1</td>\n",
       "      <td>2 hr. 10 min.</td>\n",
       "      <td>NaN</td>\n",
       "    </tr>\n",
       "  </tbody>\n",
       "</table>\n",
       "</div>"
      ],
      "text/plain": [
       "                                               Title                Genres  \\\n",
       "0         Kaguya-sama wa Kokurasetai: Ultra Romantic       Comedy,Suspense   \n",
       "1                         3-gatsu no Lion 2nd Season   Drama,Slice of Life   \n",
       "2  Gintama Movie 2: Kanketsu-hen - Yorozuya yo Ei...  Action,Comedy,Sci-Fi   \n",
       "3                                           Gintama.  Action,Comedy,Sci-Fi   \n",
       "4                                     Koe no Katachi                   NaN   \n",
       "\n",
       "  Rank Popularity  Score Episodes   Episode length Release Date  \n",
       "0   13      400.0   8.99       12  23 min. per ep.  Spring 2022  \n",
       "1   14      529.0   8.96       22  25 min. per ep.    Fall 2017  \n",
       "2   19      934.0   8.93        1    1 hr. 50 min.          NaN  \n",
       "3   12      731.0   8.99       12  24 min. per ep.  Winter 2017  \n",
       "4   15       18.0   8.96        1    2 hr. 10 min.          NaN  "
      ]
     },
     "execution_count": 282,
     "metadata": {},
     "output_type": "execute_result"
    }
   ],
   "source": [
    "# Ordinal Encoding | \"encode_ordinal\"\n",
    "\n",
    "encoder_ordinal = OrdinalEncoder()\n",
    "encode_ordinal['Popularity'] = encoder_ordinal.fit_transform(encode_onehot[['Popularity']]).astype('object')\n",
    "\n",
    "encode_ordinal.head()"
   ]
  },
  {
   "cell_type": "code",
   "execution_count": 283,
   "id": "848f5765",
   "metadata": {},
   "outputs": [
    {
     "data": {
      "text/plain": [
       "array([400.0, 529.0, 934.0, ..., 4929.0, 5187.0, 9587.0], dtype=object)"
      ]
     },
     "execution_count": 283,
     "metadata": {},
     "output_type": "execute_result"
    }
   ],
   "source": [
    "# Data yang berubah adalah \"Popularity\" yang sebelumnya \"int64\" menjadi \"object\"\n",
    "\n",
    "encode_ordinal['Popularity'].unique()"
   ]
  },
  {
   "cell_type": "code",
   "execution_count": null,
   "id": "e7b6fa9a",
   "metadata": {},
   "outputs": [],
   "source": []
  },
  {
   "cell_type": "code",
   "execution_count": 284,
   "id": "dc4b1d13",
   "metadata": {},
   "outputs": [
    {
     "data": {
      "text/html": [
       "<div>\n",
       "<style scoped>\n",
       "    .dataframe tbody tr th:only-of-type {\n",
       "        vertical-align: middle;\n",
       "    }\n",
       "\n",
       "    .dataframe tbody tr th {\n",
       "        vertical-align: top;\n",
       "    }\n",
       "\n",
       "    .dataframe thead th {\n",
       "        text-align: right;\n",
       "    }\n",
       "</style>\n",
       "<table border=\"1\" class=\"dataframe\">\n",
       "  <thead>\n",
       "    <tr style=\"text-align: right;\">\n",
       "      <th></th>\n",
       "      <th>Title</th>\n",
       "      <th>Genres</th>\n",
       "      <th>Popularity</th>\n",
       "      <th>Score</th>\n",
       "      <th>Episodes</th>\n",
       "      <th>Episode length</th>\n",
       "      <th>Release Date</th>\n",
       "      <th>Rank_/A</th>\n",
       "      <th>Rank_1</th>\n",
       "      <th>Rank_10</th>\n",
       "      <th>...</th>\n",
       "      <th>Rank_9990</th>\n",
       "      <th>Rank_9991</th>\n",
       "      <th>Rank_9992</th>\n",
       "      <th>Rank_9993</th>\n",
       "      <th>Rank_9994</th>\n",
       "      <th>Rank_9995</th>\n",
       "      <th>Rank_9996</th>\n",
       "      <th>Rank_9997</th>\n",
       "      <th>Rank_9998</th>\n",
       "      <th>Rank_9999</th>\n",
       "    </tr>\n",
       "  </thead>\n",
       "  <tbody>\n",
       "    <tr>\n",
       "      <th>0</th>\n",
       "      <td>Kaguya-sama wa Kokurasetai: Ultra Romantic</td>\n",
       "      <td>Comedy,Suspense</td>\n",
       "      <td>404</td>\n",
       "      <td>8.99</td>\n",
       "      <td>12</td>\n",
       "      <td>23 min. per ep.</td>\n",
       "      <td>Spring 2022</td>\n",
       "      <td>0</td>\n",
       "      <td>0</td>\n",
       "      <td>0</td>\n",
       "      <td>...</td>\n",
       "      <td>0</td>\n",
       "      <td>0</td>\n",
       "      <td>0</td>\n",
       "      <td>0</td>\n",
       "      <td>0</td>\n",
       "      <td>0</td>\n",
       "      <td>0</td>\n",
       "      <td>0</td>\n",
       "      <td>0</td>\n",
       "      <td>0</td>\n",
       "    </tr>\n",
       "    <tr>\n",
       "      <th>1</th>\n",
       "      <td>3-gatsu no Lion 2nd Season</td>\n",
       "      <td>Drama,Slice of Life</td>\n",
       "      <td>533</td>\n",
       "      <td>8.96</td>\n",
       "      <td>22</td>\n",
       "      <td>25 min. per ep.</td>\n",
       "      <td>Fall 2017</td>\n",
       "      <td>0</td>\n",
       "      <td>0</td>\n",
       "      <td>0</td>\n",
       "      <td>...</td>\n",
       "      <td>0</td>\n",
       "      <td>0</td>\n",
       "      <td>0</td>\n",
       "      <td>0</td>\n",
       "      <td>0</td>\n",
       "      <td>0</td>\n",
       "      <td>0</td>\n",
       "      <td>0</td>\n",
       "      <td>0</td>\n",
       "      <td>0</td>\n",
       "    </tr>\n",
       "    <tr>\n",
       "      <th>2</th>\n",
       "      <td>Gintama Movie 2: Kanketsu-hen - Yorozuya yo Ei...</td>\n",
       "      <td>Action,Comedy,Sci-Fi</td>\n",
       "      <td>939</td>\n",
       "      <td>8.93</td>\n",
       "      <td>1</td>\n",
       "      <td>1 hr. 50 min.</td>\n",
       "      <td>NaN</td>\n",
       "      <td>0</td>\n",
       "      <td>0</td>\n",
       "      <td>0</td>\n",
       "      <td>...</td>\n",
       "      <td>0</td>\n",
       "      <td>0</td>\n",
       "      <td>0</td>\n",
       "      <td>0</td>\n",
       "      <td>0</td>\n",
       "      <td>0</td>\n",
       "      <td>0</td>\n",
       "      <td>0</td>\n",
       "      <td>0</td>\n",
       "      <td>0</td>\n",
       "    </tr>\n",
       "    <tr>\n",
       "      <th>3</th>\n",
       "      <td>Gintama.</td>\n",
       "      <td>Action,Comedy,Sci-Fi</td>\n",
       "      <td>735</td>\n",
       "      <td>8.99</td>\n",
       "      <td>12</td>\n",
       "      <td>24 min. per ep.</td>\n",
       "      <td>Winter 2017</td>\n",
       "      <td>0</td>\n",
       "      <td>0</td>\n",
       "      <td>0</td>\n",
       "      <td>...</td>\n",
       "      <td>0</td>\n",
       "      <td>0</td>\n",
       "      <td>0</td>\n",
       "      <td>0</td>\n",
       "      <td>0</td>\n",
       "      <td>0</td>\n",
       "      <td>0</td>\n",
       "      <td>0</td>\n",
       "      <td>0</td>\n",
       "      <td>0</td>\n",
       "    </tr>\n",
       "    <tr>\n",
       "      <th>4</th>\n",
       "      <td>Koe no Katachi</td>\n",
       "      <td>NaN</td>\n",
       "      <td>19</td>\n",
       "      <td>8.96</td>\n",
       "      <td>1</td>\n",
       "      <td>2 hr. 10 min.</td>\n",
       "      <td>NaN</td>\n",
       "      <td>0</td>\n",
       "      <td>0</td>\n",
       "      <td>0</td>\n",
       "      <td>...</td>\n",
       "      <td>0</td>\n",
       "      <td>0</td>\n",
       "      <td>0</td>\n",
       "      <td>0</td>\n",
       "      <td>0</td>\n",
       "      <td>0</td>\n",
       "      <td>0</td>\n",
       "      <td>0</td>\n",
       "      <td>0</td>\n",
       "      <td>0</td>\n",
       "    </tr>\n",
       "  </tbody>\n",
       "</table>\n",
       "<p>5 rows × 18297 columns</p>\n",
       "</div>"
      ],
      "text/plain": [
       "                                               Title                Genres  \\\n",
       "0         Kaguya-sama wa Kokurasetai: Ultra Romantic       Comedy,Suspense   \n",
       "1                         3-gatsu no Lion 2nd Season   Drama,Slice of Life   \n",
       "2  Gintama Movie 2: Kanketsu-hen - Yorozuya yo Ei...  Action,Comedy,Sci-Fi   \n",
       "3                                           Gintama.  Action,Comedy,Sci-Fi   \n",
       "4                                     Koe no Katachi                   NaN   \n",
       "\n",
       "   Popularity  Score Episodes   Episode length Release Date  Rank_/A  Rank_1  \\\n",
       "0         404   8.99       12  23 min. per ep.  Spring 2022        0       0   \n",
       "1         533   8.96       22  25 min. per ep.    Fall 2017        0       0   \n",
       "2         939   8.93        1    1 hr. 50 min.          NaN        0       0   \n",
       "3         735   8.99       12  24 min. per ep.  Winter 2017        0       0   \n",
       "4          19   8.96        1    2 hr. 10 min.          NaN        0       0   \n",
       "\n",
       "   Rank_10  ...  Rank_9990  Rank_9991  Rank_9992  Rank_9993  Rank_9994  \\\n",
       "0        0  ...          0          0          0          0          0   \n",
       "1        0  ...          0          0          0          0          0   \n",
       "2        0  ...          0          0          0          0          0   \n",
       "3        0  ...          0          0          0          0          0   \n",
       "4        0  ...          0          0          0          0          0   \n",
       "\n",
       "   Rank_9995  Rank_9996  Rank_9997  Rank_9998  Rank_9999  \n",
       "0          0          0          0          0          0  \n",
       "1          0          0          0          0          0  \n",
       "2          0          0          0          0          0  \n",
       "3          0          0          0          0          0  \n",
       "4          0          0          0          0          0  \n",
       "\n",
       "[5 rows x 18297 columns]"
      ]
     },
     "execution_count": 284,
     "metadata": {},
     "output_type": "execute_result"
    }
   ],
   "source": [
    "# One-Hot Encoding | \"encode_onehot\"\n",
    "\n",
    "temp_encode = pd.get_dummies(encode_onehot[['Rank']])\n",
    "temp_encode = pd.DataFrame(temp_encode)\n",
    "\n",
    "encode_onehot.drop('Rank', axis=1, inplace=True)\n",
    "encode_onehot = encode_onehot.join(temp_encode)\n",
    "encode_onehot.head()\n",
    "# Record \"Rank\" yang awalnya hanya satu menjadi banyak"
   ]
  },
  {
   "cell_type": "code",
   "execution_count": null,
   "id": "ad6315d4",
   "metadata": {},
   "outputs": [],
   "source": []
  },
  {
   "cell_type": "code",
   "execution_count": 285,
   "id": "68ecbb03",
   "metadata": {},
   "outputs": [],
   "source": [
    "# end of line - - - - - :D"
   ]
  }
 ],
 "metadata": {
  "kernelspec": {
   "display_name": "Python 3 (ipykernel)",
   "language": "python",
   "name": "python3"
  },
  "language_info": {
   "codemirror_mode": {
    "name": "ipython",
    "version": 3
   },
   "file_extension": ".py",
   "mimetype": "text/x-python",
   "name": "python",
   "nbconvert_exporter": "python",
   "pygments_lexer": "ipython3",
   "version": "3.10.7"
  }
 },
 "nbformat": 4,
 "nbformat_minor": 5
}
