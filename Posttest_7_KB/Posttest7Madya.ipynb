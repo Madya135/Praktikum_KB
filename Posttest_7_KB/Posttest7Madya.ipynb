{
 "cells": [
  {
   "cell_type": "markdown",
   "id": "34397642",
   "metadata": {},
   "source": [
    "Posttest 7 Pengenalan Tensorflow"
   ]
  },
  {
   "cell_type": "code",
   "execution_count": 31,
   "id": "136c2436",
   "metadata": {},
   "outputs": [],
   "source": [
    "# Import Library | pandas | Matplotlib | sklearn\n",
    "import tensorflow as tf\n",
    "import numpy as np\n",
    "\n",
    "# Import untuk menghilangkan warning \n",
    "import warnings\n",
    "warnings.filterwarnings('ignore')"
   ]
  },
  {
   "cell_type": "code",
   "execution_count": 32,
   "id": "bc05afd6",
   "metadata": {},
   "outputs": [
    {
     "data": {
      "text/plain": [
       "array([[ 0.23604095,  0.8829411 ,  1.1772621 ,  0.16941217, -0.69530165],\n",
       "       [-0.12090585,  1.1120238 ,  0.16127758,  1.6483933 ,  0.6654914 ],\n",
       "       [ 1.1746731 , -0.51929307,  0.868432  , -1.9305269 ,  0.9412249 ],\n",
       "       [ 0.23267265, -2.157521  ,  0.3326458 ,  0.42493948,  0.28247148],\n",
       "       [-1.1424482 , -1.2732137 ,  0.5971868 ,  0.39083976, -0.21846044]],\n",
       "      dtype=float32)"
      ]
     },
     "execution_count": 32,
     "metadata": {},
     "output_type": "execute_result"
    }
   ],
   "source": [
    "# Membuat tensor dengan shape (5,5) dengan nilai random\n",
    "\n",
    "rd_tensor = tf.random.normal([5,5], mean=0., stddev=1., seed=2)\n",
    "rd_tensor.numpy()"
   ]
  },
  {
   "cell_type": "code",
   "execution_count": 33,
   "id": "84099910",
   "metadata": {},
   "outputs": [
    {
     "name": "stdout",
     "output_type": "stream",
     "text": [
      "tf.Tensor(\n",
      "[[  2.   3.   5.   7.  11.]\n",
      " [ 13.  17.  19.  23.  29.]\n",
      " [ 31.  37.  41.  43.  47.]\n",
      " [ 53.  59.  61.  71.  73.]\n",
      " [ 79.  83.  89.  97. 101.]], shape=(5, 5), dtype=float32)\n"
     ]
    }
   ],
   "source": [
    "# Membuat tensor dengan shape (5,5) dengan nilai bilangan prima\n",
    "\n",
    "prnum = [[2, 3, 5, 7, 11],\n",
    "          [13, 17, 19, 23, 29],\n",
    "          [31, 37, 41, 43, 47],\n",
    "          [53, 59, 61, 71, 73],\n",
    "          [79, 83, 89, 97, 101]]\n",
    "\n",
    "pr_tensor = tf.constant(prnum, dtype=tf.float32)\n",
    "print(pr_tensor)"
   ]
  },
  {
   "cell_type": "code",
   "execution_count": 34,
   "id": "a4b297eb",
   "metadata": {},
   "outputs": [
    {
     "name": "stdout",
     "output_type": "stream",
     "text": [
      "(5, 5)\n"
     ]
    }
   ],
   "source": [
    "# rd_tensor Dimension\n",
    "print(rd_tensor.shape)"
   ]
  },
  {
   "cell_type": "code",
   "execution_count": 35,
   "id": "443aeadf",
   "metadata": {},
   "outputs": [
    {
     "name": "stdout",
     "output_type": "stream",
     "text": [
      "(5, 5)\n"
     ]
    }
   ],
   "source": [
    "# pr_tensor Dimension\n",
    "print(pr_tensor.shape)"
   ]
  },
  {
   "cell_type": "code",
   "execution_count": 36,
   "id": "6b211248",
   "metadata": {},
   "outputs": [],
   "source": [
    "# Operasi Aritmatika pada tensor"
   ]
  },
  {
   "cell_type": "code",
   "execution_count": 37,
   "id": "602773e2",
   "metadata": {},
   "outputs": [
    {
     "name": "stdout",
     "output_type": "stream",
     "text": [
      "[[  2.236041    3.8829412   6.1772623   7.169412   10.304698 ]\n",
      " [ 12.879094   18.112024   19.161278   24.648394   29.665491 ]\n",
      " [ 32.174675   36.480705   41.86843    41.069473   47.941223 ]\n",
      " [ 53.232674   56.84248    61.332645   71.42494    73.28247  ]\n",
      " [ 77.85755    81.72678    89.59718    97.39084   100.78154  ]]\n"
     ]
    }
   ],
   "source": [
    "# Penambahan\n",
    "print(tf.add(rd_tensor, pr_tensor).numpy())"
   ]
  },
  {
   "cell_type": "code",
   "execution_count": 38,
   "id": "a1ee5804",
   "metadata": {},
   "outputs": [
    {
     "name": "stdout",
     "output_type": "stream",
     "text": [
      "[[  -1.763959    -2.1170588   -3.822738    -6.830588   -11.695302 ]\n",
      " [ -13.120906   -15.887976   -18.838722   -21.351606   -28.334509 ]\n",
      " [ -29.825327   -37.519295   -40.13157    -44.930527   -46.058777 ]\n",
      " [ -52.767326   -61.15752    -60.667355   -70.57506    -72.71753  ]\n",
      " [ -80.14245    -84.27322    -88.40282    -96.60916   -101.21846  ]]\n"
     ]
    }
   ],
   "source": [
    "# Pengurangan\n",
    "print(tf.subtract(rd_tensor, pr_tensor).numpy())"
   ]
  },
  {
   "cell_type": "code",
   "execution_count": 39,
   "id": "1dc7ee5d",
   "metadata": {},
   "outputs": [
    {
     "name": "stdout",
     "output_type": "stream",
     "text": [
      "[[   0.4720819    2.6488233    5.8863106    1.1858852   -7.6483183]\n",
      " [  -1.5717762   18.904406     3.064274    37.913044    19.299252 ]\n",
      " [  36.414864   -19.213844    35.605713   -83.01266     44.237568 ]\n",
      " [  12.331651  -127.29374     20.291393    30.170704    20.620419 ]\n",
      " [ -90.25341   -105.67674     53.149624    37.911457   -22.064505 ]]\n"
     ]
    }
   ],
   "source": [
    "# Perkalian\n",
    "print(tf.multiply(rd_tensor, pr_tensor).numpy())"
   ]
  },
  {
   "cell_type": "code",
   "execution_count": 40,
   "id": "800fb6af",
   "metadata": {},
   "outputs": [
    {
     "name": "stdout",
     "output_type": "stream",
     "text": [
      "[[ 0.11802047  0.2943137   0.23545241  0.02420174 -0.06320924]\n",
      " [-0.00930045  0.06541317  0.00848829  0.07166927  0.02294798]\n",
      " [ 0.03789268 -0.01403495  0.02118127 -0.04489597  0.02002606]\n",
      " [ 0.00439005 -0.03656815  0.00545321  0.00598506  0.00386947]\n",
      " [-0.01446137 -0.01533992  0.00670996  0.00402928 -0.00216297]]\n"
     ]
    }
   ],
   "source": [
    "# Pembagian\n",
    "print(tf.divide(rd_tensor, pr_tensor).numpy())"
   ]
  },
  {
   "cell_type": "code",
   "execution_count": 41,
   "id": "faf15870",
   "metadata": {},
   "outputs": [
    {
     "name": "stdout",
     "output_type": "stream",
     "text": [
      "[[ 5.5715330e-02  6.8832767e-01  2.2613394e+00  4.0050891e-06\n",
      "  -1.8361403e-02]\n",
      " [-1.1798187e-12  6.0805044e+00  8.7883194e-16  9.8265070e+04\n",
      "   7.4324334e-06]\n",
      " [ 1.4703729e+02 -2.9530003e-11  3.0772886e-03 -1.9233636e+12\n",
      "   5.8021586e-02]\n",
      " [ 2.7384353e-34 -5.0506467e+19  6.9327414e-30  4.0852918e-27\n",
      "   0.0000000e+00]\n",
      " [-3.7075285e+04 -5.0910739e+08  1.1852447e-20  0.0000000e+00\n",
      "  -0.0000000e+00]]\n"
     ]
    }
   ],
   "source": [
    "# Perpangkatan\n",
    "print(tf.pow(rd_tensor, pr_tensor).numpy())"
   ]
  },
  {
   "cell_type": "code",
   "execution_count": 42,
   "id": "d53e1e40",
   "metadata": {},
   "outputs": [
    {
     "name": "stdout",
     "output_type": "stream",
     "text": [
      "[[  2.   3.   5.   7.  11.]\n",
      " [ 13.  17.  19.  23.  29.]\n",
      " [ 31.  37.  41.  43.  47.]\n",
      " [ 53.  59.  61.  71.  73.]\n",
      " [ 79.  83.  89.  97. 101.]]\n"
     ]
    }
   ],
   "source": [
    "# Maximum\n",
    "print(tf.math.maximum(rd_tensor, pr_tensor).numpy())"
   ]
  },
  {
   "cell_type": "code",
   "execution_count": 43,
   "id": "5c9d0a14",
   "metadata": {},
   "outputs": [
    {
     "name": "stdout",
     "output_type": "stream",
     "text": [
      "[[ 0.23604095  0.8829411   1.1772621   0.16941217 -0.69530165]\n",
      " [-0.12090585  1.1120238   0.16127758  1.6483933   0.6654914 ]\n",
      " [ 1.1746731  -0.51929307  0.868432   -1.9305269   0.9412249 ]\n",
      " [ 0.23267265 -2.157521    0.3326458   0.42493948  0.28247148]\n",
      " [-1.1424482  -1.2732137   0.5971868   0.39083976 -0.21846044]]\n"
     ]
    }
   ],
   "source": [
    "# Minimum\n",
    "print(tf.math.minimum(rd_tensor, pr_tensor).numpy())"
   ]
  },
  {
   "cell_type": "code",
   "execution_count": 44,
   "id": "9092d17e",
   "metadata": {},
   "outputs": [],
   "source": [
    "# Menampilkan nilai maksimal dan minimal variabel rd_tensor"
   ]
  },
  {
   "cell_type": "code",
   "execution_count": 45,
   "id": "daf003da",
   "metadata": {},
   "outputs": [
    {
     "name": "stdout",
     "output_type": "stream",
     "text": [
      "1.6483933\n"
     ]
    }
   ],
   "source": [
    "# Maksimum\n",
    "print(tf.reduce_max(rd_tensor).numpy())"
   ]
  },
  {
   "cell_type": "code",
   "execution_count": 46,
   "id": "17f53568",
   "metadata": {},
   "outputs": [
    {
     "name": "stdout",
     "output_type": "stream",
     "text": [
      "-2.157521\n"
     ]
    }
   ],
   "source": [
    "# Minimum\n",
    "print(tf.reduce_min(rd_tensor).numpy())"
   ]
  },
  {
   "cell_type": "code",
   "execution_count": 47,
   "id": "ec860312",
   "metadata": {},
   "outputs": [],
   "source": [
    "# Menggabungkan variabel rd_tensor dengan pr_tensor (Concatenation)"
   ]
  },
  {
   "cell_type": "code",
   "execution_count": 48,
   "id": "a70422a2",
   "metadata": {},
   "outputs": [
    {
     "name": "stdout",
     "output_type": "stream",
     "text": [
      "[[  0.23604095   0.8829411    1.1772621    0.16941217  -0.69530165]\n",
      " [ -0.12090585   1.1120238    0.16127758   1.6483933    0.6654914 ]\n",
      " [  1.1746731   -0.51929307   0.868432    -1.9305269    0.9412249 ]\n",
      " [  0.23267265  -2.157521     0.3326458    0.42493948   0.28247148]\n",
      " [ -1.1424482   -1.2732137    0.5971868    0.39083976  -0.21846044]\n",
      " [  2.           3.           5.           7.          11.        ]\n",
      " [ 13.          17.          19.          23.          29.        ]\n",
      " [ 31.          37.          41.          43.          47.        ]\n",
      " [ 53.          59.          61.          71.          73.        ]\n",
      " [ 79.          83.          89.          97.         101.        ]]\n"
     ]
    }
   ],
   "source": [
    "# Kolom 0\n",
    "print(tf.concat([rd_tensor, pr_tensor], axis=0).numpy())"
   ]
  },
  {
   "cell_type": "code",
   "execution_count": 49,
   "id": "14834b55",
   "metadata": {},
   "outputs": [
    {
     "name": "stdout",
     "output_type": "stream",
     "text": [
      "[[  0.23604095   0.8829411    1.1772621    0.16941217  -0.69530165\n",
      "    2.           3.           5.           7.          11.        ]\n",
      " [ -0.12090585   1.1120238    0.16127758   1.6483933    0.6654914\n",
      "   13.          17.          19.          23.          29.        ]\n",
      " [  1.1746731   -0.51929307   0.868432    -1.9305269    0.9412249\n",
      "   31.          37.          41.          43.          47.        ]\n",
      " [  0.23267265  -2.157521     0.3326458    0.42493948   0.28247148\n",
      "   53.          59.          61.          71.          73.        ]\n",
      " [ -1.1424482   -1.2732137    0.5971868    0.39083976  -0.21846044\n",
      "   79.          83.          89.          97.         101.        ]]\n"
     ]
    }
   ],
   "source": [
    "# Kolom 1\n",
    "print(tf.concat([rd_tensor, pr_tensor], axis=1).numpy())"
   ]
  },
  {
   "cell_type": "code",
   "execution_count": 50,
   "id": "93fbbdfe",
   "metadata": {},
   "outputs": [],
   "source": [
    "# Tensor Sorting"
   ]
  },
  {
   "cell_type": "code",
   "execution_count": 51,
   "id": "c785a075",
   "metadata": {},
   "outputs": [
    {
     "name": "stdout",
     "output_type": "stream",
     "text": [
      "tf.Tensor(\n",
      "[[ 1.1772621   0.8829411   0.23604095  0.16941217 -0.69530165]\n",
      " [ 1.6483933   1.1120238   0.6654914   0.16127758 -0.12090585]\n",
      " [ 1.1746731   0.9412249   0.868432   -0.51929307 -1.9305269 ]\n",
      " [ 0.42493948  0.3326458   0.28247148  0.23267265 -2.157521  ]\n",
      " [ 0.5971868   0.39083976 -0.21846044 -1.1424482  -1.2732137 ]], shape=(5, 5), dtype=float32)\n"
     ]
    }
   ],
   "source": [
    "# Descending | rd_tensor\n",
    "print(tf.sort(rd_tensor, direction='DESCENDING'))"
   ]
  },
  {
   "cell_type": "code",
   "execution_count": 52,
   "id": "6b73bea2",
   "metadata": {},
   "outputs": [
    {
     "name": "stdout",
     "output_type": "stream",
     "text": [
      "tf.Tensor(\n",
      "[[-0.69530165  0.16941217  0.23604095  0.8829411   1.1772621 ]\n",
      " [-0.12090585  0.16127758  0.6654914   1.1120238   1.6483933 ]\n",
      " [-1.9305269  -0.51929307  0.868432    0.9412249   1.1746731 ]\n",
      " [-2.157521    0.23267265  0.28247148  0.3326458   0.42493948]\n",
      " [-1.2732137  -1.1424482  -0.21846044  0.39083976  0.5971868 ]], shape=(5, 5), dtype=float32)\n"
     ]
    }
   ],
   "source": [
    "# Ascending | rd_tensor\n",
    "print(tf.sort(rd_tensor, direction='ASCENDING'))"
   ]
  },
  {
   "cell_type": "code",
   "execution_count": 53,
   "id": "3feb0db8",
   "metadata": {},
   "outputs": [
    {
     "name": "stdout",
     "output_type": "stream",
     "text": [
      "tf.Tensor(\n",
      "[[ 11.   7.   5.   3.   2.]\n",
      " [ 29.  23.  19.  17.  13.]\n",
      " [ 47.  43.  41.  37.  31.]\n",
      " [ 73.  71.  61.  59.  53.]\n",
      " [101.  97.  89.  83.  79.]], shape=(5, 5), dtype=float32)\n"
     ]
    }
   ],
   "source": [
    "# Descending | pr_tensor\n",
    "print(tf.sort(pr_tensor, direction='DESCENDING'))"
   ]
  },
  {
   "cell_type": "code",
   "execution_count": 54,
   "id": "512ab885",
   "metadata": {},
   "outputs": [
    {
     "name": "stdout",
     "output_type": "stream",
     "text": [
      "tf.Tensor(\n",
      "[[  2.   3.   5.   7.  11.]\n",
      " [ 13.  17.  19.  23.  29.]\n",
      " [ 31.  37.  41.  43.  47.]\n",
      " [ 53.  59.  61.  71.  73.]\n",
      " [ 79.  83.  89.  97. 101.]], shape=(5, 5), dtype=float32)\n"
     ]
    }
   ],
   "source": [
    "# Ascending | pr_tensor\n",
    "print(tf.sort(pr_tensor, direction='ASCENDING'))"
   ]
  },
  {
   "cell_type": "code",
   "execution_count": 55,
   "id": "63ca7f1e",
   "metadata": {},
   "outputs": [],
   "source": [
    "# :D #"
   ]
  }
 ],
 "metadata": {
  "kernelspec": {
   "display_name": "Python 3 (ipykernel)",
   "language": "python",
   "name": "python3"
  },
  "language_info": {
   "codemirror_mode": {
    "name": "ipython",
    "version": 3
   },
   "file_extension": ".py",
   "mimetype": "text/x-python",
   "name": "python",
   "nbconvert_exporter": "python",
   "pygments_lexer": "ipython3",
   "version": "3.10.7"
  }
 },
 "nbformat": 4,
 "nbformat_minor": 5
}
